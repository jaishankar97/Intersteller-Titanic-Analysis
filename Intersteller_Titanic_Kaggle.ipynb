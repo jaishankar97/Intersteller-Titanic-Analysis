{
 "cells": [
  {
   "cell_type": "code",
   "execution_count": 1,
   "id": "d94d54e9",
   "metadata": {},
   "outputs": [],
   "source": [
    "import numpy as np\n",
    "import pandas as pd\n",
    "import matplotlib.pyplot as plt\n",
    "import seaborn as sns\n",
    "\n",
    "from sklearn.model_selection import train_test_split, GridSearchCV, RepeatedStratifiedKFold\n",
    "from sklearn.preprocessing import MinMaxScaler\n",
    "from sklearn.linear_model import LogisticRegression\n",
    "from sklearn.naive_bayes import GaussianNB\n",
    "from sklearn.ensemble import RandomForestClassifier\n",
    "\n",
    "from sklearn.metrics import confusion_matrix, classification_report, roc_curve, roc_auc_score\n",
    "\n",
    "import warnings\n",
    "warnings.filterwarnings('ignore')\n",
    "\n",
    "%matplotlib inline"
   ]
  },
  {
   "cell_type": "markdown",
   "id": "d1fe8f9a",
   "metadata": {},
   "source": [
    "About the dataset:\n",
    "\n",
    "1. train.csv - Personal records for about two-thirds (~8700) of the passengers, to be used as training data.\n",
    "\n",
    "2. PassengerId - A unique Id for each passenger. Each Id takes the form gggg_pp where gggg indicates a group the passenger is travelling with and pp is their number within the group. People in a group are often family members, but not always.\n",
    "3. HomePlanet - The planet the passenger departed from, typically their planet of permanent residence.\n",
    "4. CryoSleep - Indicates whether the passenger elected to be put into suspended animation for the duration of the voyage. Passengers in cryosleep are confined to their cabins.\n",
    "5. Cabin - The cabin number where the passenger is staying. Takes the form deck/num/side, where side can be either P for Port or S for Starboard.\n",
    "6. Destination - The planet the passenger will be debarking to.\n",
    "7. Age - The age of the passenger.\n",
    "8. VIP - Whether the passenger has paid for special VIP service during the voyage.\n",
    "9. RoomService, FoodCourt, ShoppingMall, Spa, VRDeck - Amount the passenger has billed at each of the Spaceship Titanic's many luxury amenities.\n",
    "10. Name - The first and last names of the passenger.\n",
    "11. Transported - Whether the passenger was transported to another dimension. This is the target, the column you are trying to predict.\n",
    "\n",
    "12.  test.csv - Personal records for the remaining one-third (~4300) of the passengers, to be used as test data. \n",
    "\n",
    "Your task is to predict the value of Transported for the passengers in this set.\n",
    "\n",
    "13. sample_submission.csv - A submission file in the correct format.\n",
    "14. PassengerId - Id for each passenger in the test set.\n",
    "15. Transported - The target. For each passenger, predict either True or False"
   ]
  },
  {
   "cell_type": "code",
   "execution_count": 2,
   "id": "39175a59",
   "metadata": {},
   "outputs": [
    {
     "data": {
      "text/html": [
       "<div>\n",
       "<style scoped>\n",
       "    .dataframe tbody tr th:only-of-type {\n",
       "        vertical-align: middle;\n",
       "    }\n",
       "\n",
       "    .dataframe tbody tr th {\n",
       "        vertical-align: top;\n",
       "    }\n",
       "\n",
       "    .dataframe thead th {\n",
       "        text-align: right;\n",
       "    }\n",
       "</style>\n",
       "<table border=\"1\" class=\"dataframe\">\n",
       "  <thead>\n",
       "    <tr style=\"text-align: right;\">\n",
       "      <th></th>\n",
       "      <th>PassengerId</th>\n",
       "      <th>HomePlanet</th>\n",
       "      <th>CryoSleep</th>\n",
       "      <th>Cabin</th>\n",
       "      <th>Destination</th>\n",
       "      <th>Age</th>\n",
       "      <th>VIP</th>\n",
       "      <th>RoomService</th>\n",
       "      <th>FoodCourt</th>\n",
       "      <th>ShoppingMall</th>\n",
       "      <th>Spa</th>\n",
       "      <th>VRDeck</th>\n",
       "      <th>Name</th>\n",
       "      <th>Transported</th>\n",
       "    </tr>\n",
       "  </thead>\n",
       "  <tbody>\n",
       "    <tr>\n",
       "      <th>0</th>\n",
       "      <td>0001_01</td>\n",
       "      <td>Europa</td>\n",
       "      <td>False</td>\n",
       "      <td>B/0/P</td>\n",
       "      <td>TRAPPIST-1e</td>\n",
       "      <td>39.0</td>\n",
       "      <td>False</td>\n",
       "      <td>0.0</td>\n",
       "      <td>0.0</td>\n",
       "      <td>0.0</td>\n",
       "      <td>0.0</td>\n",
       "      <td>0.0</td>\n",
       "      <td>Maham Ofracculy</td>\n",
       "      <td>False</td>\n",
       "    </tr>\n",
       "    <tr>\n",
       "      <th>1</th>\n",
       "      <td>0002_01</td>\n",
       "      <td>Earth</td>\n",
       "      <td>False</td>\n",
       "      <td>F/0/S</td>\n",
       "      <td>TRAPPIST-1e</td>\n",
       "      <td>24.0</td>\n",
       "      <td>False</td>\n",
       "      <td>109.0</td>\n",
       "      <td>9.0</td>\n",
       "      <td>25.0</td>\n",
       "      <td>549.0</td>\n",
       "      <td>44.0</td>\n",
       "      <td>Juanna Vines</td>\n",
       "      <td>True</td>\n",
       "    </tr>\n",
       "    <tr>\n",
       "      <th>2</th>\n",
       "      <td>0003_01</td>\n",
       "      <td>Europa</td>\n",
       "      <td>False</td>\n",
       "      <td>A/0/S</td>\n",
       "      <td>TRAPPIST-1e</td>\n",
       "      <td>58.0</td>\n",
       "      <td>True</td>\n",
       "      <td>43.0</td>\n",
       "      <td>3576.0</td>\n",
       "      <td>0.0</td>\n",
       "      <td>6715.0</td>\n",
       "      <td>49.0</td>\n",
       "      <td>Altark Susent</td>\n",
       "      <td>False</td>\n",
       "    </tr>\n",
       "    <tr>\n",
       "      <th>3</th>\n",
       "      <td>0003_02</td>\n",
       "      <td>Europa</td>\n",
       "      <td>False</td>\n",
       "      <td>A/0/S</td>\n",
       "      <td>TRAPPIST-1e</td>\n",
       "      <td>33.0</td>\n",
       "      <td>False</td>\n",
       "      <td>0.0</td>\n",
       "      <td>1283.0</td>\n",
       "      <td>371.0</td>\n",
       "      <td>3329.0</td>\n",
       "      <td>193.0</td>\n",
       "      <td>Solam Susent</td>\n",
       "      <td>False</td>\n",
       "    </tr>\n",
       "    <tr>\n",
       "      <th>4</th>\n",
       "      <td>0004_01</td>\n",
       "      <td>Earth</td>\n",
       "      <td>False</td>\n",
       "      <td>F/1/S</td>\n",
       "      <td>TRAPPIST-1e</td>\n",
       "      <td>16.0</td>\n",
       "      <td>False</td>\n",
       "      <td>303.0</td>\n",
       "      <td>70.0</td>\n",
       "      <td>151.0</td>\n",
       "      <td>565.0</td>\n",
       "      <td>2.0</td>\n",
       "      <td>Willy Santantines</td>\n",
       "      <td>True</td>\n",
       "    </tr>\n",
       "  </tbody>\n",
       "</table>\n",
       "</div>"
      ],
      "text/plain": [
       "  PassengerId HomePlanet CryoSleep  Cabin  Destination   Age    VIP  \\\n",
       "0     0001_01     Europa     False  B/0/P  TRAPPIST-1e  39.0  False   \n",
       "1     0002_01      Earth     False  F/0/S  TRAPPIST-1e  24.0  False   \n",
       "2     0003_01     Europa     False  A/0/S  TRAPPIST-1e  58.0   True   \n",
       "3     0003_02     Europa     False  A/0/S  TRAPPIST-1e  33.0  False   \n",
       "4     0004_01      Earth     False  F/1/S  TRAPPIST-1e  16.0  False   \n",
       "\n",
       "   RoomService  FoodCourt  ShoppingMall     Spa  VRDeck               Name  \\\n",
       "0          0.0        0.0           0.0     0.0     0.0    Maham Ofracculy   \n",
       "1        109.0        9.0          25.0   549.0    44.0       Juanna Vines   \n",
       "2         43.0     3576.0           0.0  6715.0    49.0      Altark Susent   \n",
       "3          0.0     1283.0         371.0  3329.0   193.0       Solam Susent   \n",
       "4        303.0       70.0         151.0   565.0     2.0  Willy Santantines   \n",
       "\n",
       "   Transported  \n",
       "0        False  \n",
       "1         True  \n",
       "2        False  \n",
       "3        False  \n",
       "4         True  "
      ]
     },
     "execution_count": 2,
     "metadata": {},
     "output_type": "execute_result"
    }
   ],
   "source": [
    "data = pd.read_csv('train.csv')\n",
    "data.head()"
   ]
  },
  {
   "cell_type": "code",
   "execution_count": 3,
   "id": "601aabda",
   "metadata": {},
   "outputs": [],
   "source": [
    "#Dropping useless columns: Cabin, Name\n",
    "data.drop(['Cabin', 'Name'], axis=1, inplace=True)"
   ]
  },
  {
   "cell_type": "code",
   "execution_count": 4,
   "id": "4af4ca16",
   "metadata": {},
   "outputs": [
    {
     "data": {
      "text/plain": [
       "PassengerId       0\n",
       "HomePlanet      201\n",
       "CryoSleep       217\n",
       "Destination     182\n",
       "Age             179\n",
       "VIP             203\n",
       "RoomService     181\n",
       "FoodCourt       183\n",
       "ShoppingMall    208\n",
       "Spa             183\n",
       "VRDeck          188\n",
       "Transported       0\n",
       "dtype: int64"
      ]
     },
     "execution_count": 4,
     "metadata": {},
     "output_type": "execute_result"
    }
   ],
   "source": [
    "data.isnull().sum()"
   ]
  },
  {
   "cell_type": "markdown",
   "id": "4f42a5b0",
   "metadata": {},
   "source": [
    "# Handling Missing Values"
   ]
  },
  {
   "cell_type": "markdown",
   "id": "f0d9aa58",
   "metadata": {},
   "source": [
    "There are different measures for handling of missing categorical data, numerical data, continuous data etc. \n",
    "\n",
    "Columns null values replaced with mean: \n",
    "1. RoomService\n",
    "2. FoodCourt\n",
    "3. ShoppingMall\n",
    "4. Spa\n",
    "5. VRDeck\n",
    "\n",
    "Columns null values replaced with mode:\n",
    "1. HomePlanet\n",
    "2. CryoSleep\n",
    "3. Destination\n",
    "4. VIP\n",
    "\n",
    "Columns null values replaced with median:\n",
    "1. Age"
   ]
  },
  {
   "cell_type": "code",
   "execution_count": 5,
   "id": "b62b1ee4",
   "metadata": {},
   "outputs": [],
   "source": [
    "#Replacing columns with mean (Might not be a wise choise if there are any outliers)\n",
    "data['RoomService'] = data['RoomService'].fillna(data['RoomService'].mean())\n",
    "data['FoodCourt'] = data['FoodCourt'].fillna(data['FoodCourt'].mean())\n",
    "data['ShoppingMall'] = data['ShoppingMall'].fillna(data['ShoppingMall'].mean())\n",
    "data['Spa'] = data['Spa'].fillna(data['Spa'].mean())\n",
    "data['VRDeck'] = data['VRDeck'].fillna(data['VRDeck'].mean())"
   ]
  },
  {
   "cell_type": "code",
   "execution_count": 6,
   "id": "02dd7c83",
   "metadata": {},
   "outputs": [],
   "source": [
    "#Replacing columns with mode (i.e. frequently occuring value in categorical variables)\n",
    "data['HomePlanet'] = data['HomePlanet'].fillna(data['HomePlanet'].mode()[0])\n",
    "data['CryoSleep'] = data['CryoSleep'].fillna(data['CryoSleep'].mode()[0])\n",
    "data['Destination'] = data['Destination'].fillna(data['Destination'].mode()[0])\n",
    "data['VIP'] = data['VIP'].fillna(data['VIP'].mode()[0])"
   ]
  },
  {
   "cell_type": "code",
   "execution_count": 7,
   "id": "13cbd60a",
   "metadata": {},
   "outputs": [],
   "source": [
    "#Replacing columns with median\n",
    "data['Age'] = data['Age'].fillna(data['Age'].median())"
   ]
  },
  {
   "cell_type": "markdown",
   "id": "22adc49e",
   "metadata": {},
   "source": [
    "Observing the distributions and outliers in the continuous value columns (the ones replaced using mean)."
   ]
  },
  {
   "cell_type": "code",
   "execution_count": 8,
   "id": "8acc139f",
   "metadata": {},
   "outputs": [
    {
     "data": {
      "image/png": "[encoded data removed]",
      "text/plain": [
       "<Figure size 1080x864 with 6 Axes>"
      ]
     },
     "metadata": {
      "needs_background": "light"
     },
     "output_type": "display_data"
    }
   ],
   "source": [
    "fig, ax = plt.subplots(ncols = 3, nrows = 2, figsize=(15,12))\n",
    "i = 0\n",
    "ax = ax.flatten()\n",
    "\n",
    "sns.distplot(data['RoomService'], ax = ax[0])\n",
    "sns.distplot(data['FoodCourt'], ax = ax[1])\n",
    "sns.distplot(data['ShoppingMall'], ax = ax[2])\n",
    "sns.distplot(data['Spa'], ax = ax[3])\n",
    "sns.distplot(data['VRDeck'], ax = ax[4])\n",
    "\n",
    "plt.tight_layout(pad = 0.5, w_pad=0.7, h_pad=0.5)"
   ]
  },
  {
   "cell_type": "markdown",
   "id": "2aab3193",
   "metadata": {},
   "source": [
    "As majority of the values are near 0 and are full of outluers, its better to drop these columns."
   ]
  },
  {
   "cell_type": "code",
   "execution_count": 9,
   "id": "b4c3a012",
   "metadata": {},
   "outputs": [],
   "source": [
    "#data.drop(['RoomService', 'FoodCourt', 'ShoppingMall', 'Spa', 'VRDeck'], axis=1, inplace=True)"
   ]
  },
  {
   "cell_type": "markdown",
   "id": "ddbf0fc9",
   "metadata": {},
   "source": [
    "Exploring the categorical columns using bar plots to observe their frequency distributions."
   ]
  },
  {
   "cell_type": "code",
   "execution_count": 10,
   "id": "a9d92f4a",
   "metadata": {},
   "outputs": [
    {
     "data": {
      "image/png": "[encoded data removed]",
      "text/plain": [
       "<Figure size 720x720 with 4 Axes>"
      ]
     },
     "metadata": {
      "needs_background": "light"
     },
     "output_type": "display_data"
    }
   ],
   "source": [
    "fig, ax = plt.subplots(ncols = 2, nrows = 2, figsize=(10,10))\n",
    "i = 0\n",
    "ax = ax.flatten()\n",
    "\n",
    "data['HomePlanet'].value_counts().plot(kind='bar', ax = ax[0], width=0.2, title='HomePlanet')\n",
    "data['CryoSleep'].value_counts().plot(kind='bar', ax = ax[1], width=0.3, title='CryoSleep')\n",
    "data['Destination'].value_counts().plot(kind='bar', ax = ax[2], width=0.2, title='Destination')\n",
    "data['VIP'].value_counts().plot(kind='bar', ax = ax[3], width=0.3, title='VIP')\n",
    "\n",
    "plt.tight_layout(pad = 0.5, w_pad=0.7, h_pad=0.5)"
   ]
  },
  {
   "cell_type": "markdown",
   "id": "29022d7a",
   "metadata": {},
   "source": [
    "The VIP Column seems to be interesting seeing the total number of VIPs throught the complete dataset. Dropping this column as it can mess up our machine learning model at a later stage. "
   ]
  },
  {
   "cell_type": "code",
   "execution_count": 11,
   "id": "5a0a82be",
   "metadata": {},
   "outputs": [],
   "source": [
    "data.drop('VIP', axis=1, inplace=True)"
   ]
  },
  {
   "cell_type": "markdown",
   "id": "6c6674dc",
   "metadata": {},
   "source": [
    "There doesn't seem to be any reason for using passenger id while training our model. So dropping the columns."
   ]
  },
  {
   "cell_type": "code",
   "execution_count": 12,
   "id": "f1b0aee8",
   "metadata": {},
   "outputs": [],
   "source": [
    "data.drop('PassengerId', axis=1, inplace=True)"
   ]
  },
  {
   "cell_type": "code",
   "execution_count": 13,
   "id": "983e33ae",
   "metadata": {},
   "outputs": [
    {
     "data": {
      "text/html": [
       "<div>\n",
       "<style scoped>\n",
       "    .dataframe tbody tr th:only-of-type {\n",
       "        vertical-align: middle;\n",
       "    }\n",
       "\n",
       "    .dataframe tbody tr th {\n",
       "        vertical-align: top;\n",
       "    }\n",
       "\n",
       "    .dataframe thead th {\n",
       "        text-align: right;\n",
       "    }\n",
       "</style>\n",
       "<table border=\"1\" class=\"dataframe\">\n",
       "  <thead>\n",
       "    <tr style=\"text-align: right;\">\n",
       "      <th></th>\n",
       "      <th>HomePlanet</th>\n",
       "      <th>CryoSleep</th>\n",
       "      <th>Destination</th>\n",
       "      <th>Age</th>\n",
       "      <th>RoomService</th>\n",
       "      <th>FoodCourt</th>\n",
       "      <th>ShoppingMall</th>\n",
       "      <th>Spa</th>\n",
       "      <th>VRDeck</th>\n",
       "      <th>Transported</th>\n",
       "    </tr>\n",
       "  </thead>\n",
       "  <tbody>\n",
       "    <tr>\n",
       "      <th>0</th>\n",
       "      <td>Europa</td>\n",
       "      <td>False</td>\n",
       "      <td>TRAPPIST-1e</td>\n",
       "      <td>39.0</td>\n",
       "      <td>0.0</td>\n",
       "      <td>0.0</td>\n",
       "      <td>0.0</td>\n",
       "      <td>0.0</td>\n",
       "      <td>0.0</td>\n",
       "      <td>False</td>\n",
       "    </tr>\n",
       "    <tr>\n",
       "      <th>1</th>\n",
       "      <td>Earth</td>\n",
       "      <td>False</td>\n",
       "      <td>TRAPPIST-1e</td>\n",
       "      <td>24.0</td>\n",
       "      <td>109.0</td>\n",
       "      <td>9.0</td>\n",
       "      <td>25.0</td>\n",
       "      <td>549.0</td>\n",
       "      <td>44.0</td>\n",
       "      <td>True</td>\n",
       "    </tr>\n",
       "    <tr>\n",
       "      <th>2</th>\n",
       "      <td>Europa</td>\n",
       "      <td>False</td>\n",
       "      <td>TRAPPIST-1e</td>\n",
       "      <td>58.0</td>\n",
       "      <td>43.0</td>\n",
       "      <td>3576.0</td>\n",
       "      <td>0.0</td>\n",
       "      <td>6715.0</td>\n",
       "      <td>49.0</td>\n",
       "      <td>False</td>\n",
       "    </tr>\n",
       "    <tr>\n",
       "      <th>3</th>\n",
       "      <td>Europa</td>\n",
       "      <td>False</td>\n",
       "      <td>TRAPPIST-1e</td>\n",
       "      <td>33.0</td>\n",
       "      <td>0.0</td>\n",
       "      <td>1283.0</td>\n",
       "      <td>371.0</td>\n",
       "      <td>3329.0</td>\n",
       "      <td>193.0</td>\n",
       "      <td>False</td>\n",
       "    </tr>\n",
       "    <tr>\n",
       "      <th>4</th>\n",
       "      <td>Earth</td>\n",
       "      <td>False</td>\n",
       "      <td>TRAPPIST-1e</td>\n",
       "      <td>16.0</td>\n",
       "      <td>303.0</td>\n",
       "      <td>70.0</td>\n",
       "      <td>151.0</td>\n",
       "      <td>565.0</td>\n",
       "      <td>2.0</td>\n",
       "      <td>True</td>\n",
       "    </tr>\n",
       "  </tbody>\n",
       "</table>\n",
       "</div>"
      ],
      "text/plain": [
       "  HomePlanet  CryoSleep  Destination   Age  RoomService  FoodCourt  \\\n",
       "0     Europa      False  TRAPPIST-1e  39.0          0.0        0.0   \n",
       "1      Earth      False  TRAPPIST-1e  24.0        109.0        9.0   \n",
       "2     Europa      False  TRAPPIST-1e  58.0         43.0     3576.0   \n",
       "3     Europa      False  TRAPPIST-1e  33.0          0.0     1283.0   \n",
       "4      Earth      False  TRAPPIST-1e  16.0        303.0       70.0   \n",
       "\n",
       "   ShoppingMall     Spa  VRDeck  Transported  \n",
       "0           0.0     0.0     0.0        False  \n",
       "1          25.0   549.0    44.0         True  \n",
       "2           0.0  6715.0    49.0        False  \n",
       "3         371.0  3329.0   193.0        False  \n",
       "4         151.0   565.0     2.0         True  "
      ]
     },
     "execution_count": 13,
     "metadata": {},
     "output_type": "execute_result"
    }
   ],
   "source": [
    "data.head()"
   ]
  },
  {
   "cell_type": "markdown",
   "id": "6713c636",
   "metadata": {},
   "source": [
    "# Encoding the categorical columns"
   ]
  },
  {
   "cell_type": "code",
   "execution_count": 14,
   "id": "4d2fa961",
   "metadata": {},
   "outputs": [],
   "source": [
    "t_dummy = pd.get_dummies(data['HomePlanet'])\n",
    "c_dummy = pd.get_dummies(data['CryoSleep'])\n",
    "d_dummy = pd.get_dummies(data['Destination'])"
   ]
  },
  {
   "cell_type": "code",
   "execution_count": 15,
   "id": "c341d80f",
   "metadata": {},
   "outputs": [
    {
     "data": {
      "text/html": [
       "<div>\n",
       "<style scoped>\n",
       "    .dataframe tbody tr th:only-of-type {\n",
       "        vertical-align: middle;\n",
       "    }\n",
       "\n",
       "    .dataframe tbody tr th {\n",
       "        vertical-align: top;\n",
       "    }\n",
       "\n",
       "    .dataframe thead th {\n",
       "        text-align: right;\n",
       "    }\n",
       "</style>\n",
       "<table border=\"1\" class=\"dataframe\">\n",
       "  <thead>\n",
       "    <tr style=\"text-align: right;\">\n",
       "      <th></th>\n",
       "      <th>HomePlanet</th>\n",
       "      <th>CryoSleep</th>\n",
       "      <th>Destination</th>\n",
       "      <th>Age</th>\n",
       "      <th>RoomService</th>\n",
       "      <th>FoodCourt</th>\n",
       "      <th>ShoppingMall</th>\n",
       "      <th>Spa</th>\n",
       "      <th>VRDeck</th>\n",
       "      <th>Transported</th>\n",
       "      <th>Earth</th>\n",
       "      <th>Europa</th>\n",
       "      <th>Mars</th>\n",
       "      <th>False</th>\n",
       "      <th>True</th>\n",
       "      <th>55 Cancri e</th>\n",
       "      <th>PSO J318.5-22</th>\n",
       "      <th>TRAPPIST-1e</th>\n",
       "    </tr>\n",
       "  </thead>\n",
       "  <tbody>\n",
       "    <tr>\n",
       "      <th>0</th>\n",
       "      <td>Europa</td>\n",
       "      <td>False</td>\n",
       "      <td>TRAPPIST-1e</td>\n",
       "      <td>39.0</td>\n",
       "      <td>0.0</td>\n",
       "      <td>0.0</td>\n",
       "      <td>0.0</td>\n",
       "      <td>0.0</td>\n",
       "      <td>0.0</td>\n",
       "      <td>False</td>\n",
       "      <td>0</td>\n",
       "      <td>1</td>\n",
       "      <td>0</td>\n",
       "      <td>1</td>\n",
       "      <td>0</td>\n",
       "      <td>0</td>\n",
       "      <td>0</td>\n",
       "      <td>1</td>\n",
       "    </tr>\n",
       "    <tr>\n",
       "      <th>1</th>\n",
       "      <td>Earth</td>\n",
       "      <td>False</td>\n",
       "      <td>TRAPPIST-1e</td>\n",
       "      <td>24.0</td>\n",
       "      <td>109.0</td>\n",
       "      <td>9.0</td>\n",
       "      <td>25.0</td>\n",
       "      <td>549.0</td>\n",
       "      <td>44.0</td>\n",
       "      <td>True</td>\n",
       "      <td>1</td>\n",
       "      <td>0</td>\n",
       "      <td>0</td>\n",
       "      <td>1</td>\n",
       "      <td>0</td>\n",
       "      <td>0</td>\n",
       "      <td>0</td>\n",
       "      <td>1</td>\n",
       "    </tr>\n",
       "    <tr>\n",
       "      <th>2</th>\n",
       "      <td>Europa</td>\n",
       "      <td>False</td>\n",
       "      <td>TRAPPIST-1e</td>\n",
       "      <td>58.0</td>\n",
       "      <td>43.0</td>\n",
       "      <td>3576.0</td>\n",
       "      <td>0.0</td>\n",
       "      <td>6715.0</td>\n",
       "      <td>49.0</td>\n",
       "      <td>False</td>\n",
       "      <td>0</td>\n",
       "      <td>1</td>\n",
       "      <td>0</td>\n",
       "      <td>1</td>\n",
       "      <td>0</td>\n",
       "      <td>0</td>\n",
       "      <td>0</td>\n",
       "      <td>1</td>\n",
       "    </tr>\n",
       "    <tr>\n",
       "      <th>3</th>\n",
       "      <td>Europa</td>\n",
       "      <td>False</td>\n",
       "      <td>TRAPPIST-1e</td>\n",
       "      <td>33.0</td>\n",
       "      <td>0.0</td>\n",
       "      <td>1283.0</td>\n",
       "      <td>371.0</td>\n",
       "      <td>3329.0</td>\n",
       "      <td>193.0</td>\n",
       "      <td>False</td>\n",
       "      <td>0</td>\n",
       "      <td>1</td>\n",
       "      <td>0</td>\n",
       "      <td>1</td>\n",
       "      <td>0</td>\n",
       "      <td>0</td>\n",
       "      <td>0</td>\n",
       "      <td>1</td>\n",
       "    </tr>\n",
       "    <tr>\n",
       "      <th>4</th>\n",
       "      <td>Earth</td>\n",
       "      <td>False</td>\n",
       "      <td>TRAPPIST-1e</td>\n",
       "      <td>16.0</td>\n",
       "      <td>303.0</td>\n",
       "      <td>70.0</td>\n",
       "      <td>151.0</td>\n",
       "      <td>565.0</td>\n",
       "      <td>2.0</td>\n",
       "      <td>True</td>\n",
       "      <td>1</td>\n",
       "      <td>0</td>\n",
       "      <td>0</td>\n",
       "      <td>1</td>\n",
       "      <td>0</td>\n",
       "      <td>0</td>\n",
       "      <td>0</td>\n",
       "      <td>1</td>\n",
       "    </tr>\n",
       "    <tr>\n",
       "      <th>...</th>\n",
       "      <td>...</td>\n",
       "      <td>...</td>\n",
       "      <td>...</td>\n",
       "      <td>...</td>\n",
       "      <td>...</td>\n",
       "      <td>...</td>\n",
       "      <td>...</td>\n",
       "      <td>...</td>\n",
       "      <td>...</td>\n",
       "      <td>...</td>\n",
       "      <td>...</td>\n",
       "      <td>...</td>\n",
       "      <td>...</td>\n",
       "      <td>...</td>\n",
       "      <td>...</td>\n",
       "      <td>...</td>\n",
       "      <td>...</td>\n",
       "      <td>...</td>\n",
       "    </tr>\n",
       "    <tr>\n",
       "      <th>8688</th>\n",
       "      <td>Europa</td>\n",
       "      <td>False</td>\n",
       "      <td>55 Cancri e</td>\n",
       "      <td>41.0</td>\n",
       "      <td>0.0</td>\n",
       "      <td>6819.0</td>\n",
       "      <td>0.0</td>\n",
       "      <td>1643.0</td>\n",
       "      <td>74.0</td>\n",
       "      <td>False</td>\n",
       "      <td>0</td>\n",
       "      <td>1</td>\n",
       "      <td>0</td>\n",
       "      <td>1</td>\n",
       "      <td>0</td>\n",
       "      <td>1</td>\n",
       "      <td>0</td>\n",
       "      <td>0</td>\n",
       "    </tr>\n",
       "    <tr>\n",
       "      <th>8689</th>\n",
       "      <td>Earth</td>\n",
       "      <td>True</td>\n",
       "      <td>PSO J318.5-22</td>\n",
       "      <td>18.0</td>\n",
       "      <td>0.0</td>\n",
       "      <td>0.0</td>\n",
       "      <td>0.0</td>\n",
       "      <td>0.0</td>\n",
       "      <td>0.0</td>\n",
       "      <td>False</td>\n",
       "      <td>1</td>\n",
       "      <td>0</td>\n",
       "      <td>0</td>\n",
       "      <td>0</td>\n",
       "      <td>1</td>\n",
       "      <td>0</td>\n",
       "      <td>1</td>\n",
       "      <td>0</td>\n",
       "    </tr>\n",
       "    <tr>\n",
       "      <th>8690</th>\n",
       "      <td>Earth</td>\n",
       "      <td>False</td>\n",
       "      <td>TRAPPIST-1e</td>\n",
       "      <td>26.0</td>\n",
       "      <td>0.0</td>\n",
       "      <td>0.0</td>\n",
       "      <td>1872.0</td>\n",
       "      <td>1.0</td>\n",
       "      <td>0.0</td>\n",
       "      <td>True</td>\n",
       "      <td>1</td>\n",
       "      <td>0</td>\n",
       "      <td>0</td>\n",
       "      <td>1</td>\n",
       "      <td>0</td>\n",
       "      <td>0</td>\n",
       "      <td>0</td>\n",
       "      <td>1</td>\n",
       "    </tr>\n",
       "    <tr>\n",
       "      <th>8691</th>\n",
       "      <td>Europa</td>\n",
       "      <td>False</td>\n",
       "      <td>55 Cancri e</td>\n",
       "      <td>32.0</td>\n",
       "      <td>0.0</td>\n",
       "      <td>1049.0</td>\n",
       "      <td>0.0</td>\n",
       "      <td>353.0</td>\n",
       "      <td>3235.0</td>\n",
       "      <td>False</td>\n",
       "      <td>0</td>\n",
       "      <td>1</td>\n",
       "      <td>0</td>\n",
       "      <td>1</td>\n",
       "      <td>0</td>\n",
       "      <td>1</td>\n",
       "      <td>0</td>\n",
       "      <td>0</td>\n",
       "    </tr>\n",
       "    <tr>\n",
       "      <th>8692</th>\n",
       "      <td>Europa</td>\n",
       "      <td>False</td>\n",
       "      <td>TRAPPIST-1e</td>\n",
       "      <td>44.0</td>\n",
       "      <td>126.0</td>\n",
       "      <td>4688.0</td>\n",
       "      <td>0.0</td>\n",
       "      <td>0.0</td>\n",
       "      <td>12.0</td>\n",
       "      <td>True</td>\n",
       "      <td>0</td>\n",
       "      <td>1</td>\n",
       "      <td>0</td>\n",
       "      <td>1</td>\n",
       "      <td>0</td>\n",
       "      <td>0</td>\n",
       "      <td>0</td>\n",
       "      <td>1</td>\n",
       "    </tr>\n",
       "  </tbody>\n",
       "</table>\n",
       "<p>8693 rows × 18 columns</p>\n",
       "</div>"
      ],
      "text/plain": [
       "     HomePlanet  CryoSleep    Destination   Age  RoomService  FoodCourt  \\\n",
       "0        Europa      False    TRAPPIST-1e  39.0          0.0        0.0   \n",
       "1         Earth      False    TRAPPIST-1e  24.0        109.0        9.0   \n",
       "2        Europa      False    TRAPPIST-1e  58.0         43.0     3576.0   \n",
       "3        Europa      False    TRAPPIST-1e  33.0          0.0     1283.0   \n",
       "4         Earth      False    TRAPPIST-1e  16.0        303.0       70.0   \n",
       "...         ...        ...            ...   ...          ...        ...   \n",
       "8688     Europa      False    55 Cancri e  41.0          0.0     6819.0   \n",
       "8689      Earth       True  PSO J318.5-22  18.0          0.0        0.0   \n",
       "8690      Earth      False    TRAPPIST-1e  26.0          0.0        0.0   \n",
       "8691     Europa      False    55 Cancri e  32.0          0.0     1049.0   \n",
       "8692     Europa      False    TRAPPIST-1e  44.0        126.0     4688.0   \n",
       "\n",
       "      ShoppingMall     Spa  VRDeck  Transported  Earth  Europa  Mars  False  \\\n",
       "0              0.0     0.0     0.0        False      0       1     0      1   \n",
       "1             25.0   549.0    44.0         True      1       0     0      1   \n",
       "2              0.0  6715.0    49.0        False      0       1     0      1   \n",
       "3            371.0  3329.0   193.0        False      0       1     0      1   \n",
       "4            151.0   565.0     2.0         True      1       0     0      1   \n",
       "...            ...     ...     ...          ...    ...     ...   ...    ...   \n",
       "8688           0.0  1643.0    74.0        False      0       1     0      1   \n",
       "8689           0.0     0.0     0.0        False      1       0     0      0   \n",
       "8690        1872.0     1.0     0.0         True      1       0     0      1   \n",
       "8691           0.0   353.0  3235.0        False      0       1     0      1   \n",
       "8692           0.0     0.0    12.0         True      0       1     0      1   \n",
       "\n",
       "      True  55 Cancri e  PSO J318.5-22  TRAPPIST-1e  \n",
       "0        0            0              0            1  \n",
       "1        0            0              0            1  \n",
       "2        0            0              0            1  \n",
       "3        0            0              0            1  \n",
       "4        0            0              0            1  \n",
       "...    ...          ...            ...          ...  \n",
       "8688     0            1              0            0  \n",
       "8689     1            0              1            0  \n",
       "8690     0            0              0            1  \n",
       "8691     0            1              0            0  \n",
       "8692     0            0              0            1  \n",
       "\n",
       "[8693 rows x 18 columns]"
      ]
     },
     "execution_count": 15,
     "metadata": {},
     "output_type": "execute_result"
    }
   ],
   "source": [
    "m1 = pd.concat([data, t_dummy], axis=1)\n",
    "m2 = pd.concat([m1, c_dummy], axis=1)\n",
    "m3 = pd.concat([m2, d_dummy], axis=1)\n",
    "m3"
   ]
  },
  {
   "cell_type": "code",
   "execution_count": 16,
   "id": "c2f57c8d",
   "metadata": {},
   "outputs": [
    {
     "data": {
      "text/html": [
       "<div>\n",
       "<style scoped>\n",
       "    .dataframe tbody tr th:only-of-type {\n",
       "        vertical-align: middle;\n",
       "    }\n",
       "\n",
       "    .dataframe tbody tr th {\n",
       "        vertical-align: top;\n",
       "    }\n",
       "\n",
       "    .dataframe thead th {\n",
       "        text-align: right;\n",
       "    }\n",
       "</style>\n",
       "<table border=\"1\" class=\"dataframe\">\n",
       "  <thead>\n",
       "    <tr style=\"text-align: right;\">\n",
       "      <th></th>\n",
       "      <th>Age</th>\n",
       "      <th>RoomService</th>\n",
       "      <th>FoodCourt</th>\n",
       "      <th>ShoppingMall</th>\n",
       "      <th>Spa</th>\n",
       "      <th>VRDeck</th>\n",
       "      <th>Transported</th>\n",
       "      <th>Earth</th>\n",
       "      <th>Europa</th>\n",
       "      <th>Mars</th>\n",
       "      <th>False</th>\n",
       "      <th>True</th>\n",
       "      <th>55 Cancri e</th>\n",
       "      <th>PSO J318.5-22</th>\n",
       "      <th>TRAPPIST-1e</th>\n",
       "    </tr>\n",
       "  </thead>\n",
       "  <tbody>\n",
       "    <tr>\n",
       "      <th>0</th>\n",
       "      <td>39.0</td>\n",
       "      <td>0.0</td>\n",
       "      <td>0.0</td>\n",
       "      <td>0.0</td>\n",
       "      <td>0.0</td>\n",
       "      <td>0.0</td>\n",
       "      <td>False</td>\n",
       "      <td>0</td>\n",
       "      <td>1</td>\n",
       "      <td>0</td>\n",
       "      <td>1</td>\n",
       "      <td>0</td>\n",
       "      <td>0</td>\n",
       "      <td>0</td>\n",
       "      <td>1</td>\n",
       "    </tr>\n",
       "    <tr>\n",
       "      <th>1</th>\n",
       "      <td>24.0</td>\n",
       "      <td>109.0</td>\n",
       "      <td>9.0</td>\n",
       "      <td>25.0</td>\n",
       "      <td>549.0</td>\n",
       "      <td>44.0</td>\n",
       "      <td>True</td>\n",
       "      <td>1</td>\n",
       "      <td>0</td>\n",
       "      <td>0</td>\n",
       "      <td>1</td>\n",
       "      <td>0</td>\n",
       "      <td>0</td>\n",
       "      <td>0</td>\n",
       "      <td>1</td>\n",
       "    </tr>\n",
       "    <tr>\n",
       "      <th>2</th>\n",
       "      <td>58.0</td>\n",
       "      <td>43.0</td>\n",
       "      <td>3576.0</td>\n",
       "      <td>0.0</td>\n",
       "      <td>6715.0</td>\n",
       "      <td>49.0</td>\n",
       "      <td>False</td>\n",
       "      <td>0</td>\n",
       "      <td>1</td>\n",
       "      <td>0</td>\n",
       "      <td>1</td>\n",
       "      <td>0</td>\n",
       "      <td>0</td>\n",
       "      <td>0</td>\n",
       "      <td>1</td>\n",
       "    </tr>\n",
       "    <tr>\n",
       "      <th>3</th>\n",
       "      <td>33.0</td>\n",
       "      <td>0.0</td>\n",
       "      <td>1283.0</td>\n",
       "      <td>371.0</td>\n",
       "      <td>3329.0</td>\n",
       "      <td>193.0</td>\n",
       "      <td>False</td>\n",
       "      <td>0</td>\n",
       "      <td>1</td>\n",
       "      <td>0</td>\n",
       "      <td>1</td>\n",
       "      <td>0</td>\n",
       "      <td>0</td>\n",
       "      <td>0</td>\n",
       "      <td>1</td>\n",
       "    </tr>\n",
       "    <tr>\n",
       "      <th>4</th>\n",
       "      <td>16.0</td>\n",
       "      <td>303.0</td>\n",
       "      <td>70.0</td>\n",
       "      <td>151.0</td>\n",
       "      <td>565.0</td>\n",
       "      <td>2.0</td>\n",
       "      <td>True</td>\n",
       "      <td>1</td>\n",
       "      <td>0</td>\n",
       "      <td>0</td>\n",
       "      <td>1</td>\n",
       "      <td>0</td>\n",
       "      <td>0</td>\n",
       "      <td>0</td>\n",
       "      <td>1</td>\n",
       "    </tr>\n",
       "  </tbody>\n",
       "</table>\n",
       "</div>"
      ],
      "text/plain": [
       "    Age  RoomService  FoodCourt  ShoppingMall     Spa  VRDeck  Transported  \\\n",
       "0  39.0          0.0        0.0           0.0     0.0     0.0        False   \n",
       "1  24.0        109.0        9.0          25.0   549.0    44.0         True   \n",
       "2  58.0         43.0     3576.0           0.0  6715.0    49.0        False   \n",
       "3  33.0          0.0     1283.0         371.0  3329.0   193.0        False   \n",
       "4  16.0        303.0       70.0         151.0   565.0     2.0         True   \n",
       "\n",
       "   Earth  Europa  Mars  False  True  55 Cancri e  PSO J318.5-22  TRAPPIST-1e  \n",
       "0      0       1     0      1     0            0              0            1  \n",
       "1      1       0     0      1     0            0              0            1  \n",
       "2      0       1     0      1     0            0              0            1  \n",
       "3      0       1     0      1     0            0              0            1  \n",
       "4      1       0     0      1     0            0              0            1  "
      ]
     },
     "execution_count": 16,
     "metadata": {},
     "output_type": "execute_result"
    }
   ],
   "source": [
    "#Dropping the original categorical columns\n",
    "final = m3.drop(['HomePlanet', 'CryoSleep', 'Destination'], axis=1)\n",
    "final.head()"
   ]
  },
  {
   "cell_type": "code",
   "execution_count": 17,
   "id": "145eef9a",
   "metadata": {},
   "outputs": [
    {
     "data": {
      "text/plain": [
       "<AxesSubplot:>"
      ]
     },
     "execution_count": 17,
     "metadata": {},
     "output_type": "execute_result"
    },
    {
     "data": {
      "image/png": "[encoded data removed]",
      "text/plain": [
       "<Figure size 864x576 with 2 Axes>"
      ]
     },
     "metadata": {
      "needs_background": "light"
     },
     "output_type": "display_data"
    }
   ],
   "source": [
    "#Finding correlation between columns\n",
    "plt.figure(figsize=(12, 8))\n",
    "sns.heatmap(final.corr(), annot=True)"
   ]
  },
  {
   "cell_type": "code",
   "execution_count": 18,
   "id": "adc9da7b",
   "metadata": {},
   "outputs": [
    {
     "data": {
      "text/plain": [
       "<AxesSubplot:xlabel='Age', ylabel='Density'>"
      ]
     },
     "execution_count": 18,
     "metadata": {},
     "output_type": "execute_result"
    },
    {
     "data": {
      "image/png": "[encoded data removed]",
      "text/plain": [
       "<Figure size 864x720 with 1 Axes>"
      ]
     },
     "metadata": {
      "needs_background": "light"
     },
     "output_type": "display_data"
    }
   ],
   "source": [
    "plt.figure(figsize=(12, 10))\n",
    "sns.distplot(data['Age'])"
   ]
  },
  {
   "cell_type": "markdown",
   "id": "0661b43a",
   "metadata": {},
   "source": [
    "# Scaling the Continuous Column"
   ]
  },
  {
   "cell_type": "markdown",
   "id": "a1bbee4a",
   "metadata": {},
   "source": [
    "Before training the model, the values of age can decrease the efficiency of learning, so scaling the age values:"
   ]
  },
  {
   "cell_type": "code",
   "execution_count": 22,
   "id": "94e361e0",
   "metadata": {},
   "outputs": [],
   "source": [
    "age = final['Age'].values.reshape(-1, 1)\n",
    "roomservice = final['RoomService'].values.reshape(-1, 1)\n",
    "foodcourt = final['FoodCourt'].values.reshape(-1, 1)\n",
    "shopping = final['ShoppingMall'].values.reshape(-1, 1)\n",
    "spa = final['Spa'].values.reshape(-1, 1)\n",
    "vrd = final['VRDeck'].values.reshape(-1, 1)"
   ]
  },
  {
   "cell_type": "code",
   "execution_count": 20,
   "id": "11811ac6",
   "metadata": {},
   "outputs": [],
   "source": [
    "scalar = MinMaxScaler()"
   ]
  },
  {
   "cell_type": "code",
   "execution_count": 23,
   "id": "165af4b9",
   "metadata": {},
   "outputs": [],
   "source": [
    "scaled_age = scalar.fit_transform(age)\n",
    "scaled_room = scalar.fit_transform(roomservice)\n",
    "scaled_food = scalar.fit_transform(foodcourt)\n",
    "scaled_shop = scalar.fit_transform(shopping)\n",
    "scaled_spa = scalar.fit_transform(spa)\n",
    "scaled_vrd = scalar.fit_transform(vrd)"
   ]
  },
  {
   "cell_type": "code",
   "execution_count": 24,
   "id": "afb24434",
   "metadata": {},
   "outputs": [],
   "source": [
    "final['Age'] = scaled_age\n",
    "final['RoomService'] = scaled_room\n",
    "final['FoodCourt'] = scaled_food\n",
    "final['ShoppingMall'] = scaled_shop\n",
    "final['Spa'] = scaled_spa\n",
    "final['VRDeck'] = scaled_vrd"
   ]
  },
  {
   "cell_type": "code",
   "execution_count": 25,
   "id": "98da01a7",
   "metadata": {},
   "outputs": [
    {
     "data": {
      "text/html": [
       "<div>\n",
       "<style scoped>\n",
       "    .dataframe tbody tr th:only-of-type {\n",
       "        vertical-align: middle;\n",
       "    }\n",
       "\n",
       "    .dataframe tbody tr th {\n",
       "        vertical-align: top;\n",
       "    }\n",
       "\n",
       "    .dataframe thead th {\n",
       "        text-align: right;\n",
       "    }\n",
       "</style>\n",
       "<table border=\"1\" class=\"dataframe\">\n",
       "  <thead>\n",
       "    <tr style=\"text-align: right;\">\n",
       "      <th></th>\n",
       "      <th>Age</th>\n",
       "      <th>RoomService</th>\n",
       "      <th>FoodCourt</th>\n",
       "      <th>ShoppingMall</th>\n",
       "      <th>Spa</th>\n",
       "      <th>VRDeck</th>\n",
       "      <th>Transported</th>\n",
       "      <th>Earth</th>\n",
       "      <th>Europa</th>\n",
       "      <th>Mars</th>\n",
       "      <th>False</th>\n",
       "      <th>True</th>\n",
       "      <th>55 Cancri e</th>\n",
       "      <th>PSO J318.5-22</th>\n",
       "      <th>TRAPPIST-1e</th>\n",
       "    </tr>\n",
       "  </thead>\n",
       "  <tbody>\n",
       "    <tr>\n",
       "      <th>0</th>\n",
       "      <td>0.493671</td>\n",
       "      <td>0.000000</td>\n",
       "      <td>0.000000</td>\n",
       "      <td>0.000000</td>\n",
       "      <td>0.000000</td>\n",
       "      <td>0.000000</td>\n",
       "      <td>False</td>\n",
       "      <td>0</td>\n",
       "      <td>1</td>\n",
       "      <td>0</td>\n",
       "      <td>1</td>\n",
       "      <td>0</td>\n",
       "      <td>0</td>\n",
       "      <td>0</td>\n",
       "      <td>1</td>\n",
       "    </tr>\n",
       "    <tr>\n",
       "      <th>1</th>\n",
       "      <td>0.303797</td>\n",
       "      <td>0.007608</td>\n",
       "      <td>0.000302</td>\n",
       "      <td>0.001064</td>\n",
       "      <td>0.024500</td>\n",
       "      <td>0.001823</td>\n",
       "      <td>True</td>\n",
       "      <td>1</td>\n",
       "      <td>0</td>\n",
       "      <td>0</td>\n",
       "      <td>1</td>\n",
       "      <td>0</td>\n",
       "      <td>0</td>\n",
       "      <td>0</td>\n",
       "      <td>1</td>\n",
       "    </tr>\n",
       "    <tr>\n",
       "      <th>2</th>\n",
       "      <td>0.734177</td>\n",
       "      <td>0.003001</td>\n",
       "      <td>0.119948</td>\n",
       "      <td>0.000000</td>\n",
       "      <td>0.299670</td>\n",
       "      <td>0.002030</td>\n",
       "      <td>False</td>\n",
       "      <td>0</td>\n",
       "      <td>1</td>\n",
       "      <td>0</td>\n",
       "      <td>1</td>\n",
       "      <td>0</td>\n",
       "      <td>0</td>\n",
       "      <td>0</td>\n",
       "      <td>1</td>\n",
       "    </tr>\n",
       "    <tr>\n",
       "      <th>3</th>\n",
       "      <td>0.417722</td>\n",
       "      <td>0.000000</td>\n",
       "      <td>0.043035</td>\n",
       "      <td>0.015793</td>\n",
       "      <td>0.148563</td>\n",
       "      <td>0.007997</td>\n",
       "      <td>False</td>\n",
       "      <td>0</td>\n",
       "      <td>1</td>\n",
       "      <td>0</td>\n",
       "      <td>1</td>\n",
       "      <td>0</td>\n",
       "      <td>0</td>\n",
       "      <td>0</td>\n",
       "      <td>1</td>\n",
       "    </tr>\n",
       "    <tr>\n",
       "      <th>4</th>\n",
       "      <td>0.202532</td>\n",
       "      <td>0.021149</td>\n",
       "      <td>0.002348</td>\n",
       "      <td>0.006428</td>\n",
       "      <td>0.025214</td>\n",
       "      <td>0.000083</td>\n",
       "      <td>True</td>\n",
       "      <td>1</td>\n",
       "      <td>0</td>\n",
       "      <td>0</td>\n",
       "      <td>1</td>\n",
       "      <td>0</td>\n",
       "      <td>0</td>\n",
       "      <td>0</td>\n",
       "      <td>1</td>\n",
       "    </tr>\n",
       "  </tbody>\n",
       "</table>\n",
       "</div>"
      ],
      "text/plain": [
       "        Age  RoomService  FoodCourt  ShoppingMall       Spa    VRDeck  \\\n",
       "0  0.493671     0.000000   0.000000      0.000000  0.000000  0.000000   \n",
       "1  0.303797     0.007608   0.000302      0.001064  0.024500  0.001823   \n",
       "2  0.734177     0.003001   0.119948      0.000000  0.299670  0.002030   \n",
       "3  0.417722     0.000000   0.043035      0.015793  0.148563  0.007997   \n",
       "4  0.202532     0.021149   0.002348      0.006428  0.025214  0.000083   \n",
       "\n",
       "   Transported  Earth  Europa  Mars  False  True  55 Cancri e  PSO J318.5-22  \\\n",
       "0        False      0       1     0      1     0            0              0   \n",
       "1         True      1       0     0      1     0            0              0   \n",
       "2        False      0       1     0      1     0            0              0   \n",
       "3        False      0       1     0      1     0            0              0   \n",
       "4         True      1       0     0      1     0            0              0   \n",
       "\n",
       "   TRAPPIST-1e  \n",
       "0            1  \n",
       "1            1  \n",
       "2            1  \n",
       "3            1  \n",
       "4            1  "
      ]
     },
     "execution_count": 25,
     "metadata": {},
     "output_type": "execute_result"
    }
   ],
   "source": [
    "final.head()"
   ]
  },
  {
   "cell_type": "markdown",
   "id": "ec0f00da",
   "metadata": {},
   "source": [
    "# Training and Testing Split data"
   ]
  },
  {
   "cell_type": "code",
   "execution_count": 26,
   "id": "4d0f0177",
   "metadata": {},
   "outputs": [],
   "source": [
    "X = final.drop('Transported', axis=1)\n",
    "Y = final['Transported']"
   ]
  },
  {
   "cell_type": "code",
   "execution_count": 27,
   "id": "61ae08f8",
   "metadata": {},
   "outputs": [],
   "source": [
    "X_train, X_test, Y_train, Y_test = train_test_split(X, Y, test_size=0.2)"
   ]
  },
  {
   "cell_type": "markdown",
   "id": "f952ba9d",
   "metadata": {},
   "source": [
    "The following classification models will be trained:\n",
    "\n",
    "1. Logistic Regression (Base Model)\n",
    "2. Naive Bayes \n",
    "3. Random Forest"
   ]
  },
  {
   "cell_type": "markdown",
   "id": "43373bd6",
   "metadata": {},
   "source": [
    "# Base Model: Logistic Regression"
   ]
  },
  {
   "cell_type": "code",
   "execution_count": 28,
   "id": "005612bb",
   "metadata": {},
   "outputs": [],
   "source": [
    "lr = LogisticRegression()"
   ]
  },
  {
   "cell_type": "code",
   "execution_count": 29,
   "id": "12f6c60d",
   "metadata": {},
   "outputs": [],
   "source": [
    "solvers = ['newton-cg', 'lbfgs', 'liblinear']\n",
    "penalty = ['l2']\n",
    "c_values = [100, 10, 1.0, 0.1, 0.01, 0.001]"
   ]
  },
  {
   "cell_type": "code",
   "execution_count": 30,
   "id": "905391f4",
   "metadata": {},
   "outputs": [],
   "source": [
    "LRgrid = dict(solver=solvers,penalty=penalty,C=c_values)"
   ]
  },
  {
   "cell_type": "code",
   "execution_count": 31,
   "id": "6026a7e0",
   "metadata": {},
   "outputs": [],
   "source": [
    "LRcv = RepeatedStratifiedKFold(n_splits=10, n_repeats=3, random_state=1)"
   ]
  },
  {
   "cell_type": "code",
   "execution_count": 32,
   "id": "73176f22",
   "metadata": {},
   "outputs": [],
   "source": [
    "LRgrid_search = GridSearchCV(estimator=lr, param_grid=LRgrid, n_jobs=-1, cv=LRcv, scoring='accuracy',error_score=0)"
   ]
  },
  {
   "cell_type": "code",
   "execution_count": 33,
   "id": "212ef05f",
   "metadata": {},
   "outputs": [],
   "source": [
    "LRgrid_result = LRgrid_search.fit(X, Y)"
   ]
  },
  {
   "cell_type": "code",
   "execution_count": 34,
   "id": "49f5fce1",
   "metadata": {},
   "outputs": [
    {
     "name": "stdout",
     "output_type": "stream",
     "text": [
      "Best: 0.785420 using {'C': 100, 'penalty': 'l2', 'solver': 'liblinear'}\n"
     ]
    }
   ],
   "source": [
    "print(\"Best: %f using %s\" % (LRgrid_result.best_score_, LRgrid_result.best_params_))"
   ]
  },
  {
   "cell_type": "code",
   "execution_count": 35,
   "id": "ff3e551b",
   "metadata": {},
   "outputs": [
    {
     "name": "stdout",
     "output_type": "stream",
     "text": [
      "0.785267 (0.014860) with: {'C': 100, 'penalty': 'l2', 'solver': 'newton-cg'}\n",
      "0.785343 (0.014881) with: {'C': 100, 'penalty': 'l2', 'solver': 'lbfgs'}\n",
      "0.785420 (0.014829) with: {'C': 100, 'penalty': 'l2', 'solver': 'liblinear'}\n",
      "0.780013 (0.013452) with: {'C': 10, 'penalty': 'l2', 'solver': 'newton-cg'}\n",
      "0.779975 (0.013505) with: {'C': 10, 'penalty': 'l2', 'solver': 'lbfgs'}\n",
      "0.780013 (0.013452) with: {'C': 10, 'penalty': 'l2', 'solver': 'liblinear'}\n",
      "0.764561 (0.012001) with: {'C': 1.0, 'penalty': 'l2', 'solver': 'newton-cg'}\n",
      "0.764600 (0.012056) with: {'C': 1.0, 'penalty': 'l2', 'solver': 'lbfgs'}\n",
      "0.764600 (0.012031) with: {'C': 1.0, 'penalty': 'l2', 'solver': 'liblinear'}\n",
      "0.747230 (0.012812) with: {'C': 0.1, 'penalty': 'l2', 'solver': 'newton-cg'}\n",
      "0.747230 (0.012812) with: {'C': 0.1, 'penalty': 'l2', 'solver': 'lbfgs'}\n",
      "0.747268 (0.012900) with: {'C': 0.1, 'penalty': 'l2', 'solver': 'liblinear'}\n",
      "0.715365 (0.012289) with: {'C': 0.01, 'penalty': 'l2', 'solver': 'newton-cg'}\n",
      "0.715365 (0.012289) with: {'C': 0.01, 'penalty': 'l2', 'solver': 'lbfgs'}\n",
      "0.717627 (0.012597) with: {'C': 0.01, 'penalty': 'l2', 'solver': 'liblinear'}\n",
      "0.708195 (0.011411) with: {'C': 0.001, 'penalty': 'l2', 'solver': 'newton-cg'}\n",
      "0.708195 (0.011411) with: {'C': 0.001, 'penalty': 'l2', 'solver': 'lbfgs'}\n",
      "0.718279 (0.012506) with: {'C': 0.001, 'penalty': 'l2', 'solver': 'liblinear'}\n"
     ]
    }
   ],
   "source": [
    "means = LRgrid_result.cv_results_['mean_test_score']\n",
    "stds = LRgrid_result.cv_results_['std_test_score']\n",
    "params = LRgrid_result.cv_results_['params']\n",
    "for mean, stdev, param in zip(means, stds, params):\n",
    "    print(\"%f (%f) with: %r\" % (mean, stdev, param))"
   ]
  },
  {
   "cell_type": "code",
   "execution_count": 38,
   "id": "63acd7ce",
   "metadata": {},
   "outputs": [],
   "source": [
    "lr = LogisticRegression(C=100, solver='liblinear')"
   ]
  },
  {
   "cell_type": "code",
   "execution_count": 39,
   "id": "d3c4d56c",
   "metadata": {},
   "outputs": [
    {
     "data": {
      "text/plain": [
       "LogisticRegression(C=100, solver='liblinear')"
      ]
     },
     "execution_count": 39,
     "metadata": {},
     "output_type": "execute_result"
    }
   ],
   "source": [
    "lr.fit(X_train, Y_train)"
   ]
  },
  {
   "cell_type": "code",
   "execution_count": 40,
   "id": "ae67f391",
   "metadata": {},
   "outputs": [],
   "source": [
    "lrp = lr.predict(X_test)"
   ]
  },
  {
   "cell_type": "code",
   "execution_count": 48,
   "id": "bdec67dd",
   "metadata": {},
   "outputs": [
    {
     "name": "stdout",
     "output_type": "stream",
     "text": [
      "[[678 204]\n",
      " [151 706]]\n",
      "              precision    recall  f1-score   support\n",
      "\n",
      "       False       0.82      0.77      0.79       882\n",
      "        True       0.78      0.82      0.80       857\n",
      "\n",
      "    accuracy                           0.80      1739\n",
      "   macro avg       0.80      0.80      0.80      1739\n",
      "weighted avg       0.80      0.80      0.80      1739\n",
      "\n"
     ]
    }
   ],
   "source": [
    "print(confusion_matrix(Y_test, lrp))\n",
    "print(classification_report(Y_test, lrp))"
   ]
  },
  {
   "cell_type": "markdown",
   "id": "1ea12f67",
   "metadata": {},
   "source": [
    "# SVM Classifier"
   ]
  },
  {
   "cell_type": "code",
   "execution_count": 50,
   "id": "d8aea2bd",
   "metadata": {},
   "outputs": [],
   "source": [
    "from sklearn.svm import SVC"
   ]
  },
  {
   "cell_type": "code",
   "execution_count": 52,
   "id": "e2870281",
   "metadata": {},
   "outputs": [
    {
     "name": "stdout",
     "output_type": "stream",
     "text": [
      "Best: 0.785881 using {'C': 50, 'gamma': 'scale', 'kernel': 'poly'}\n"
     ]
    }
   ],
   "source": [
    "model = SVC()\n",
    "kernel = ['poly', 'rbf', 'sigmoid']\n",
    "C = [50, 10, 1.0, 0.1, 0.01]\n",
    "gamma = ['scale']\n",
    "\n",
    "# define grid search\n",
    "SVCgrid = dict(kernel=kernel,C=C,gamma=gamma)\n",
    "SVCcv = RepeatedStratifiedKFold(n_splits=10, n_repeats=3, random_state=1)\n",
    "SVCgrid_search = SVCGridSearchCV(estimator=model, param_grid=SVCgrid, n_jobs=-1, cv=SVCcv, scoring='accuracy',error_score=0)\n",
    "SVCgrid_result = SVCgrid_search.fit(X, Y)\n",
    "\n",
    "# summarize results\n",
    "print(\"Best: %f using %s\" % (SVCgrid_result.best_score_, SVCgrid_result.best_params_))"
   ]
  },
  {
   "cell_type": "code",
   "execution_count": 53,
   "id": "2c670ab1",
   "metadata": {},
   "outputs": [
    {
     "name": "stdout",
     "output_type": "stream",
     "text": [
      "0.785881 (0.013518) with: {'C': 50, 'gamma': 'scale', 'kernel': 'poly'}\n",
      "0.782852 (0.012516) with: {'C': 50, 'gamma': 'scale', 'kernel': 'rbf'}\n",
      "0.612564 (0.024267) with: {'C': 50, 'gamma': 'scale', 'kernel': 'sigmoid'}\n",
      "0.782122 (0.012876) with: {'C': 10, 'gamma': 'scale', 'kernel': 'poly'}\n",
      "0.775489 (0.013128) with: {'C': 10, 'gamma': 'scale', 'kernel': 'rbf'}\n",
      "0.594654 (0.024125) with: {'C': 10, 'gamma': 'scale', 'kernel': 'sigmoid'}\n",
      "0.766555 (0.011424) with: {'C': 1.0, 'gamma': 'scale', 'kernel': 'poly'}\n",
      "0.759653 (0.011872) with: {'C': 1.0, 'gamma': 'scale', 'kernel': 'rbf'}\n",
      "0.620996 (0.033564) with: {'C': 1.0, 'gamma': 'scale', 'kernel': 'sigmoid'}\n",
      "0.742437 (0.012191) with: {'C': 0.1, 'gamma': 'scale', 'kernel': 'poly'}\n",
      "0.720235 (0.012434) with: {'C': 0.1, 'gamma': 'scale', 'kernel': 'rbf'}\n",
      "0.598716 (0.024742) with: {'C': 0.1, 'gamma': 'scale', 'kernel': 'sigmoid'}\n",
      "0.718279 (0.012506) with: {'C': 0.01, 'gamma': 'scale', 'kernel': 'poly'}\n",
      "0.718279 (0.012506) with: {'C': 0.01, 'gamma': 'scale', 'kernel': 'rbf'}\n",
      "0.662754 (0.019542) with: {'C': 0.01, 'gamma': 'scale', 'kernel': 'sigmoid'}\n"
     ]
    }
   ],
   "source": [
    "means = SVCgrid_result.cv_results_['mean_test_score']\n",
    "stds = SVCgrid_result.cv_results_['std_test_score']\n",
    "params = SVCgrid_result.cv_results_['params']\n",
    "for mean, stdev, param in zip(means, stds, params):\n",
    "    print(\"%f (%f) with: %r\" % (mean, stdev, param))"
   ]
  },
  {
   "cell_type": "code",
   "execution_count": 81,
   "id": "4eeea046",
   "metadata": {},
   "outputs": [],
   "source": [
    "svc = SVC(C=50, gamma='scale', kernel='poly', probability=True)"
   ]
  },
  {
   "cell_type": "code",
   "execution_count": 82,
   "id": "145896c9",
   "metadata": {},
   "outputs": [
    {
     "data": {
      "text/plain": [
       "SVC(C=50, kernel='poly', probability=True)"
      ]
     },
     "execution_count": 82,
     "metadata": {},
     "output_type": "execute_result"
    }
   ],
   "source": [
    "svc.fit(X_train, Y_train)"
   ]
  },
  {
   "cell_type": "code",
   "execution_count": 83,
   "id": "c1cb7beb",
   "metadata": {},
   "outputs": [],
   "source": [
    "svcp = svc.predict(X_test)"
   ]
  },
  {
   "cell_type": "code",
   "execution_count": 84,
   "id": "527e0cb6",
   "metadata": {},
   "outputs": [
    {
     "name": "stdout",
     "output_type": "stream",
     "text": [
      "[[681 201]\n",
      " [160 697]]\n",
      "              precision    recall  f1-score   support\n",
      "\n",
      "       False       0.81      0.77      0.79       882\n",
      "        True       0.78      0.81      0.79       857\n",
      "\n",
      "    accuracy                           0.79      1739\n",
      "   macro avg       0.79      0.79      0.79      1739\n",
      "weighted avg       0.79      0.79      0.79      1739\n",
      "\n"
     ]
    }
   ],
   "source": [
    "print(confusion_matrix(Y_test, svcp))\n",
    "print(classification_report(Y_test, svcp))"
   ]
  },
  {
   "cell_type": "markdown",
   "id": "ed49a672",
   "metadata": {},
   "source": [
    "# Naive Bayes Classifier"
   ]
  },
  {
   "cell_type": "code",
   "execution_count": 59,
   "id": "e7609ef8",
   "metadata": {},
   "outputs": [],
   "source": [
    "nb = GaussianNB()"
   ]
  },
  {
   "cell_type": "code",
   "execution_count": 60,
   "id": "876a1ed0",
   "metadata": {},
   "outputs": [
    {
     "data": {
      "text/plain": [
       "GaussianNB()"
      ]
     },
     "execution_count": 60,
     "metadata": {},
     "output_type": "execute_result"
    }
   ],
   "source": [
    "nb.fit(X_train, Y_train)"
   ]
  },
  {
   "cell_type": "code",
   "execution_count": 61,
   "id": "03058c60",
   "metadata": {},
   "outputs": [],
   "source": [
    "nbp = nb.predict(X_test)"
   ]
  },
  {
   "cell_type": "code",
   "execution_count": 62,
   "id": "da785496",
   "metadata": {},
   "outputs": [
    {
     "name": "stdout",
     "output_type": "stream",
     "text": [
      "[[512 370]\n",
      " [ 84 773]]\n",
      "              precision    recall  f1-score   support\n",
      "\n",
      "       False       0.86      0.58      0.69       882\n",
      "        True       0.68      0.90      0.77       857\n",
      "\n",
      "    accuracy                           0.74      1739\n",
      "   macro avg       0.77      0.74      0.73      1739\n",
      "weighted avg       0.77      0.74      0.73      1739\n",
      "\n"
     ]
    }
   ],
   "source": [
    "print(confusion_matrix(Y_test, nbp))\n",
    "print(classification_report(Y_test, nbp))"
   ]
  },
  {
   "cell_type": "markdown",
   "id": "5af936f5",
   "metadata": {},
   "source": [
    "# Random Forest Classifier"
   ]
  },
  {
   "cell_type": "code",
   "execution_count": 63,
   "id": "80a81961",
   "metadata": {},
   "outputs": [],
   "source": [
    "rf = RandomForestClassifier()\n",
    "n_estimators = [10, 100, 1000]\n",
    "max_features = ['sqrt', 'log2']"
   ]
  },
  {
   "cell_type": "code",
   "execution_count": 65,
   "id": "28914512",
   "metadata": {},
   "outputs": [],
   "source": [
    "RFgrid = dict(n_estimators=n_estimators,max_features=max_features)\n",
    "RFcv = RepeatedStratifiedKFold(n_splits=10, n_repeats=3, random_state=1)\n",
    "RFgrid_search = GridSearchCV(estimator=rf, param_grid=RFgrid, n_jobs=-1, cv=RFcv, scoring='accuracy',error_score=0)\n",
    "RFgrid_result = RFgrid_search.fit(X, Y)"
   ]
  },
  {
   "cell_type": "code",
   "execution_count": 69,
   "id": "abc7ff10",
   "metadata": {},
   "outputs": [
    {
     "name": "stdout",
     "output_type": "stream",
     "text": [
      "Best: 0.782660 using {'max_features': 'sqrt', 'n_estimators': 1000}\n"
     ]
    }
   ],
   "source": [
    "print(\"Best: %f using %s\" % (RFgrid_result.best_score_, RFgrid_result.best_params_))"
   ]
  },
  {
   "cell_type": "code",
   "execution_count": 67,
   "id": "a59e92ab",
   "metadata": {},
   "outputs": [
    {
     "name": "stdout",
     "output_type": "stream",
     "text": [
      "0.772422 (0.012956) with: {'max_features': 'sqrt', 'n_estimators': 10}\n",
      "0.781241 (0.013897) with: {'max_features': 'sqrt', 'n_estimators': 100}\n",
      "0.782660 (0.014972) with: {'max_features': 'sqrt', 'n_estimators': 1000}\n",
      "0.772537 (0.015763) with: {'max_features': 'log2', 'n_estimators': 10}\n",
      "0.780283 (0.015918) with: {'max_features': 'log2', 'n_estimators': 100}\n",
      "0.782008 (0.015737) with: {'max_features': 'log2', 'n_estimators': 1000}\n"
     ]
    }
   ],
   "source": [
    "means = RFgrid_result.cv_results_['mean_test_score']\n",
    "stds = RFgrid_result.cv_results_['std_test_score']\n",
    "params = RFgrid_result.cv_results_['params']\n",
    "for mean, stdev, param in zip(means, stds, params):\n",
    "    print(\"%f (%f) with: %r\" % (mean, stdev, param))"
   ]
  },
  {
   "cell_type": "code",
   "execution_count": 75,
   "id": "0b078980",
   "metadata": {},
   "outputs": [],
   "source": [
    "rf = RandomForestClassifier(n_estimators=1000, max_features='sqrt')"
   ]
  },
  {
   "cell_type": "code",
   "execution_count": 76,
   "id": "631b129c",
   "metadata": {},
   "outputs": [
    {
     "data": {
      "text/plain": [
       "RandomForestClassifier(max_features='sqrt', n_estimators=1000)"
      ]
     },
     "execution_count": 76,
     "metadata": {},
     "output_type": "execute_result"
    }
   ],
   "source": [
    "rf.fit(X_train, Y_train)"
   ]
  },
  {
   "cell_type": "code",
   "execution_count": 77,
   "id": "dd9b3db9",
   "metadata": {},
   "outputs": [],
   "source": [
    "rfp = rf.predict(X_test)"
   ]
  },
  {
   "cell_type": "code",
   "execution_count": 78,
   "id": "f30b331d",
   "metadata": {},
   "outputs": [
    {
     "name": "stdout",
     "output_type": "stream",
     "text": [
      "[[697 185]\n",
      " [176 681]]\n",
      "              precision    recall  f1-score   support\n",
      "\n",
      "       False       0.80      0.79      0.79       882\n",
      "        True       0.79      0.79      0.79       857\n",
      "\n",
      "    accuracy                           0.79      1739\n",
      "   macro avg       0.79      0.79      0.79      1739\n",
      "weighted avg       0.79      0.79      0.79      1739\n",
      "\n"
     ]
    }
   ],
   "source": [
    "print(confusion_matrix(Y_test, rfp))\n",
    "print(classification_report(Y_test, rfp))"
   ]
  },
  {
   "cell_type": "markdown",
   "id": "922ab5e6",
   "metadata": {},
   "source": [
    "# ROC Curves"
   ]
  },
  {
   "cell_type": "markdown",
   "id": "79c5b686",
   "metadata": {},
   "source": [
    "Calculating probabilities for the predicted values. "
   ]
  },
  {
   "cell_type": "code",
   "execution_count": 85,
   "id": "e5a0df3c",
   "metadata": {},
   "outputs": [],
   "source": [
    "r_prob = [0 for _ in range(len(Y_test))] #Dividing the curve\n",
    "lr_prob = lr.predict_proba(X_test) #Base Model Logistic Regression\n",
    "svm_prob = svc.predict_proba(X_test) #SVM\n",
    "nb_prob = nb.predict_proba(X_test) #Naive Bayes\n",
    "rf_prob = rf.predict_proba(X_test) #Random Forest"
   ]
  },
  {
   "cell_type": "markdown",
   "id": "16172811",
   "metadata": {},
   "source": [
    "Only positive outcomes are kept"
   ]
  },
  {
   "cell_type": "code",
   "execution_count": 86,
   "id": "3c04eb2a",
   "metadata": {},
   "outputs": [],
   "source": [
    "lr_prob = lr_prob[:, 1]\n",
    "svm_prob = svm_prob[:, 1]\n",
    "nb_prob = nb_prob[:, 1]\n",
    "rf_prob = rf_prob[:, 1]"
   ]
  },
  {
   "cell_type": "markdown",
   "id": "71847e33",
   "metadata": {},
   "source": [
    "Encoding the Transported values "
   ]
  },
  {
   "cell_type": "code",
   "execution_count": 118,
   "id": "eeb7d3bc",
   "metadata": {},
   "outputs": [],
   "source": [
    "y_t = []\n",
    "for i in Y_test.astype('string'):\n",
    "    if i == 'True':\n",
    "        y_t.append(1)\n",
    "    else:\n",
    "        y_t.append(0)"
   ]
  },
  {
   "cell_type": "markdown",
   "id": "d047d37f",
   "metadata": {},
   "source": [
    "Calculating ROC curve"
   ]
  },
  {
   "cell_type": "code",
   "execution_count": 120,
   "id": "5ee6bc42",
   "metadata": {},
   "outputs": [],
   "source": [
    "r_auc = roc_auc_score(Y_test, r_prob)\n",
    "lr_auc = roc_auc_score(Y_test, lr_prob)\n",
    "svm_auc = roc_auc_score(Y_test, svm_prob)\n",
    "nb_auc = roc_auc_score(Y_test, nb_prob)\n",
    "rf_auc = roc_auc_score(Y_test, rf_prob)"
   ]
  },
  {
   "cell_type": "code",
   "execution_count": 121,
   "id": "419a04e8",
   "metadata": {},
   "outputs": [
    {
     "name": "stdout",
     "output_type": "stream",
     "text": [
      "Random (Chance) Prediction: AUROC = 0.500\n",
      "Logistic Regression: AUROC = 0.873\n",
      "SVM: AUROC = 0.877\n",
      "Naive Bayes: AUROC = 0.861\n",
      "Random Forest: AUROC = 0.865\n"
     ]
    }
   ],
   "source": [
    "print('Random (Chance) Prediction: AUROC = %.3f' % (r_auc))\n",
    "print('Logistic Regression: AUROC = %.3f' % (lr_auc))\n",
    "print('SVM: AUROC = %.3f' % (svm_auc))\n",
    "print('Naive Bayes: AUROC = %.3f' % (nb_auc))\n",
    "print('Random Forest: AUROC = %.3f' % (rf_auc))"
   ]
  },
  {
   "cell_type": "markdown",
   "id": "961da830",
   "metadata": {},
   "source": [
    "Calculating true positive and false positive rates"
   ]
  },
  {
   "cell_type": "code",
   "execution_count": 122,
   "id": "4946b2d5",
   "metadata": {},
   "outputs": [],
   "source": [
    "r_fpr, r_tpr, _ = roc_curve(np.array(y_t) , np.array(r_prob))\n",
    "lr_fpr, lr_tpr, _ = roc_curve(np.array(y_t) , np.array(lr_prob))\n",
    "svm_fpr, svm_tpr, _ = roc_curve(np.array(y_t) , np.array(svm_prob))\n",
    "nb_fpr, nb_tpr, _ = roc_curve(np.array(y_t) , np.array(nb_prob))\n",
    "rf_fpr, rf_tpr, _ = roc_curve(np.array(y_t) , np.array(rf_prob))"
   ]
  },
  {
   "cell_type": "markdown",
   "id": "391a46e9",
   "metadata": {},
   "source": [
    "Visualising the ROC Curve"
   ]
  },
  {
   "cell_type": "code",
   "execution_count": 132,
   "id": "4712dea7",
   "metadata": {},
   "outputs": [
    {
     "data": {
      "image/png": "[encoded data removed]",
      "text/plain": [
       "<Figure size 864x576 with 1 Axes>"
      ]
     },
     "metadata": {
      "needs_background": "light"
     },
     "output_type": "display_data"
    }
   ],
   "source": [
    "plt.figure(figsize=(12, 8))\n",
    "plt.plot(r_fpr, r_tpr, linestyle = '--', label = 'Random Prediction (AUROC = %0.3f)' % r_auc)\n",
    "plt.plot(lr_fpr, lr_tpr, marker = 'x', label = 'Logistic Regression (AUROC = %0.3f)' % lr_auc)\n",
    "plt.plot(svm_fpr, svm_tpr, marker = '+', label = 'SVM (AUROC = %0.3f)' % svm_auc)\n",
    "plt.plot(nb_fpr, nb_tpr, marker = '.', label = 'Naive Bayes (AUROC = %0.3f)' % nb_auc)\n",
    "plt.plot(rf_fpr, rf_tpr, marker = '2', label = 'Random Forest (AUROC = %0.3f)' % rf_auc)\n",
    "\n",
    "plt.title('ROC Plot', size=30)\n",
    "plt.xlabel('False Positive Rate', size=20)\n",
    "plt.ylabel('True Positive Rate', size=20)\n",
    "plt.legend()\n",
    "plt.show()"
   ]
  },
  {
   "cell_type": "markdown",
   "id": "0d6f2f5e",
   "metadata": {},
   "source": [
    "# Pre-processing the required Test Data"
   ]
  },
  {
   "cell_type": "code",
   "execution_count": 218,
   "id": "8d21af3e",
   "metadata": {},
   "outputs": [],
   "source": [
    "test = pd.read_csv('test.csv')\n",
    "temp_test = test.copy()"
   ]
  },
  {
   "cell_type": "code",
   "execution_count": 219,
   "id": "138dc4e8",
   "metadata": {},
   "outputs": [
    {
     "data": {
      "text/html": [
       "<div>\n",
       "<style scoped>\n",
       "    .dataframe tbody tr th:only-of-type {\n",
       "        vertical-align: middle;\n",
       "    }\n",
       "\n",
       "    .dataframe tbody tr th {\n",
       "        vertical-align: top;\n",
       "    }\n",
       "\n",
       "    .dataframe thead th {\n",
       "        text-align: right;\n",
       "    }\n",
       "</style>\n",
       "<table border=\"1\" class=\"dataframe\">\n",
       "  <thead>\n",
       "    <tr style=\"text-align: right;\">\n",
       "      <th></th>\n",
       "      <th>PassengerId</th>\n",
       "      <th>HomePlanet</th>\n",
       "      <th>CryoSleep</th>\n",
       "      <th>Cabin</th>\n",
       "      <th>Destination</th>\n",
       "      <th>Age</th>\n",
       "      <th>VIP</th>\n",
       "      <th>RoomService</th>\n",
       "      <th>FoodCourt</th>\n",
       "      <th>ShoppingMall</th>\n",
       "      <th>Spa</th>\n",
       "      <th>VRDeck</th>\n",
       "      <th>Name</th>\n",
       "    </tr>\n",
       "  </thead>\n",
       "  <tbody>\n",
       "    <tr>\n",
       "      <th>0</th>\n",
       "      <td>0013_01</td>\n",
       "      <td>Earth</td>\n",
       "      <td>True</td>\n",
       "      <td>G/3/S</td>\n",
       "      <td>TRAPPIST-1e</td>\n",
       "      <td>27.0</td>\n",
       "      <td>False</td>\n",
       "      <td>0.0</td>\n",
       "      <td>0.0</td>\n",
       "      <td>0.0</td>\n",
       "      <td>0.0</td>\n",
       "      <td>0.0</td>\n",
       "      <td>Nelly Carsoning</td>\n",
       "    </tr>\n",
       "    <tr>\n",
       "      <th>1</th>\n",
       "      <td>0018_01</td>\n",
       "      <td>Earth</td>\n",
       "      <td>False</td>\n",
       "      <td>F/4/S</td>\n",
       "      <td>TRAPPIST-1e</td>\n",
       "      <td>19.0</td>\n",
       "      <td>False</td>\n",
       "      <td>0.0</td>\n",
       "      <td>9.0</td>\n",
       "      <td>0.0</td>\n",
       "      <td>2823.0</td>\n",
       "      <td>0.0</td>\n",
       "      <td>Lerome Peckers</td>\n",
       "    </tr>\n",
       "    <tr>\n",
       "      <th>2</th>\n",
       "      <td>0019_01</td>\n",
       "      <td>Europa</td>\n",
       "      <td>True</td>\n",
       "      <td>C/0/S</td>\n",
       "      <td>55 Cancri e</td>\n",
       "      <td>31.0</td>\n",
       "      <td>False</td>\n",
       "      <td>0.0</td>\n",
       "      <td>0.0</td>\n",
       "      <td>0.0</td>\n",
       "      <td>0.0</td>\n",
       "      <td>0.0</td>\n",
       "      <td>Sabih Unhearfus</td>\n",
       "    </tr>\n",
       "    <tr>\n",
       "      <th>3</th>\n",
       "      <td>0021_01</td>\n",
       "      <td>Europa</td>\n",
       "      <td>False</td>\n",
       "      <td>C/1/S</td>\n",
       "      <td>TRAPPIST-1e</td>\n",
       "      <td>38.0</td>\n",
       "      <td>False</td>\n",
       "      <td>0.0</td>\n",
       "      <td>6652.0</td>\n",
       "      <td>0.0</td>\n",
       "      <td>181.0</td>\n",
       "      <td>585.0</td>\n",
       "      <td>Meratz Caltilter</td>\n",
       "    </tr>\n",
       "    <tr>\n",
       "      <th>4</th>\n",
       "      <td>0023_01</td>\n",
       "      <td>Earth</td>\n",
       "      <td>False</td>\n",
       "      <td>F/5/S</td>\n",
       "      <td>TRAPPIST-1e</td>\n",
       "      <td>20.0</td>\n",
       "      <td>False</td>\n",
       "      <td>10.0</td>\n",
       "      <td>0.0</td>\n",
       "      <td>635.0</td>\n",
       "      <td>0.0</td>\n",
       "      <td>0.0</td>\n",
       "      <td>Brence Harperez</td>\n",
       "    </tr>\n",
       "    <tr>\n",
       "      <th>...</th>\n",
       "      <td>...</td>\n",
       "      <td>...</td>\n",
       "      <td>...</td>\n",
       "      <td>...</td>\n",
       "      <td>...</td>\n",
       "      <td>...</td>\n",
       "      <td>...</td>\n",
       "      <td>...</td>\n",
       "      <td>...</td>\n",
       "      <td>...</td>\n",
       "      <td>...</td>\n",
       "      <td>...</td>\n",
       "      <td>...</td>\n",
       "    </tr>\n",
       "    <tr>\n",
       "      <th>4272</th>\n",
       "      <td>9266_02</td>\n",
       "      <td>Earth</td>\n",
       "      <td>True</td>\n",
       "      <td>G/1496/S</td>\n",
       "      <td>TRAPPIST-1e</td>\n",
       "      <td>34.0</td>\n",
       "      <td>False</td>\n",
       "      <td>0.0</td>\n",
       "      <td>0.0</td>\n",
       "      <td>0.0</td>\n",
       "      <td>0.0</td>\n",
       "      <td>0.0</td>\n",
       "      <td>Jeron Peter</td>\n",
       "    </tr>\n",
       "    <tr>\n",
       "      <th>4273</th>\n",
       "      <td>9269_01</td>\n",
       "      <td>Earth</td>\n",
       "      <td>False</td>\n",
       "      <td>NaN</td>\n",
       "      <td>TRAPPIST-1e</td>\n",
       "      <td>42.0</td>\n",
       "      <td>False</td>\n",
       "      <td>0.0</td>\n",
       "      <td>847.0</td>\n",
       "      <td>17.0</td>\n",
       "      <td>10.0</td>\n",
       "      <td>144.0</td>\n",
       "      <td>Matty Scheron</td>\n",
       "    </tr>\n",
       "    <tr>\n",
       "      <th>4274</th>\n",
       "      <td>9271_01</td>\n",
       "      <td>Mars</td>\n",
       "      <td>True</td>\n",
       "      <td>D/296/P</td>\n",
       "      <td>55 Cancri e</td>\n",
       "      <td>NaN</td>\n",
       "      <td>False</td>\n",
       "      <td>0.0</td>\n",
       "      <td>0.0</td>\n",
       "      <td>0.0</td>\n",
       "      <td>0.0</td>\n",
       "      <td>0.0</td>\n",
       "      <td>Jayrin Pore</td>\n",
       "    </tr>\n",
       "    <tr>\n",
       "      <th>4275</th>\n",
       "      <td>9273_01</td>\n",
       "      <td>Europa</td>\n",
       "      <td>False</td>\n",
       "      <td>D/297/P</td>\n",
       "      <td>NaN</td>\n",
       "      <td>NaN</td>\n",
       "      <td>False</td>\n",
       "      <td>0.0</td>\n",
       "      <td>2680.0</td>\n",
       "      <td>0.0</td>\n",
       "      <td>0.0</td>\n",
       "      <td>523.0</td>\n",
       "      <td>Kitakan Conale</td>\n",
       "    </tr>\n",
       "    <tr>\n",
       "      <th>4276</th>\n",
       "      <td>9277_01</td>\n",
       "      <td>Earth</td>\n",
       "      <td>True</td>\n",
       "      <td>G/1498/S</td>\n",
       "      <td>PSO J318.5-22</td>\n",
       "      <td>43.0</td>\n",
       "      <td>False</td>\n",
       "      <td>0.0</td>\n",
       "      <td>0.0</td>\n",
       "      <td>0.0</td>\n",
       "      <td>0.0</td>\n",
       "      <td>0.0</td>\n",
       "      <td>Lilace Leonzaley</td>\n",
       "    </tr>\n",
       "  </tbody>\n",
       "</table>\n",
       "<p>4277 rows × 13 columns</p>\n",
       "</div>"
      ],
      "text/plain": [
       "     PassengerId HomePlanet CryoSleep     Cabin    Destination   Age    VIP  \\\n",
       "0        0013_01      Earth      True     G/3/S    TRAPPIST-1e  27.0  False   \n",
       "1        0018_01      Earth     False     F/4/S    TRAPPIST-1e  19.0  False   \n",
       "2        0019_01     Europa      True     C/0/S    55 Cancri e  31.0  False   \n",
       "3        0021_01     Europa     False     C/1/S    TRAPPIST-1e  38.0  False   \n",
       "4        0023_01      Earth     False     F/5/S    TRAPPIST-1e  20.0  False   \n",
       "...          ...        ...       ...       ...            ...   ...    ...   \n",
       "4272     9266_02      Earth      True  G/1496/S    TRAPPIST-1e  34.0  False   \n",
       "4273     9269_01      Earth     False       NaN    TRAPPIST-1e  42.0  False   \n",
       "4274     9271_01       Mars      True   D/296/P    55 Cancri e   NaN  False   \n",
       "4275     9273_01     Europa     False   D/297/P            NaN   NaN  False   \n",
       "4276     9277_01      Earth      True  G/1498/S  PSO J318.5-22  43.0  False   \n",
       "\n",
       "      RoomService  FoodCourt  ShoppingMall     Spa  VRDeck              Name  \n",
       "0             0.0        0.0           0.0     0.0     0.0   Nelly Carsoning  \n",
       "1             0.0        9.0           0.0  2823.0     0.0    Lerome Peckers  \n",
       "2             0.0        0.0           0.0     0.0     0.0   Sabih Unhearfus  \n",
       "3             0.0     6652.0           0.0   181.0   585.0  Meratz Caltilter  \n",
       "4            10.0        0.0         635.0     0.0     0.0   Brence Harperez  \n",
       "...           ...        ...           ...     ...     ...               ...  \n",
       "4272          0.0        0.0           0.0     0.0     0.0       Jeron Peter  \n",
       "4273          0.0      847.0          17.0    10.0   144.0     Matty Scheron  \n",
       "4274          0.0        0.0           0.0     0.0     0.0       Jayrin Pore  \n",
       "4275          0.0     2680.0           0.0     0.0   523.0    Kitakan Conale  \n",
       "4276          0.0        0.0           0.0     0.0     0.0  Lilace Leonzaley  \n",
       "\n",
       "[4277 rows x 13 columns]"
      ]
     },
     "execution_count": 219,
     "metadata": {},
     "output_type": "execute_result"
    }
   ],
   "source": [
    "test"
   ]
  },
  {
   "cell_type": "code",
   "execution_count": 220,
   "id": "73c1b739",
   "metadata": {},
   "outputs": [],
   "source": [
    "#Dropping the columns: PassengerId, Cabin, VIP, Name\n",
    "test.drop(['PassengerId', 'Cabin', 'VIP', 'Name'], axis=1, inplace=True)"
   ]
  },
  {
   "cell_type": "code",
   "execution_count": 221,
   "id": "095710f5",
   "metadata": {},
   "outputs": [
    {
     "data": {
      "text/plain": [
       "HomePlanet       87\n",
       "CryoSleep        93\n",
       "Destination      92\n",
       "Age              91\n",
       "RoomService      82\n",
       "FoodCourt       106\n",
       "ShoppingMall     98\n",
       "Spa             101\n",
       "VRDeck           80\n",
       "dtype: int64"
      ]
     },
     "execution_count": 221,
     "metadata": {},
     "output_type": "execute_result"
    }
   ],
   "source": [
    "test.isnull().sum()"
   ]
  },
  {
   "cell_type": "code",
   "execution_count": 222,
   "id": "83933b6f",
   "metadata": {},
   "outputs": [],
   "source": [
    "#Replacing columns with mean (Might not be a wise choise if there are any outliers)\n",
    "test['RoomService'] = test['RoomService'].fillna(test['RoomService'].mean())\n",
    "test['FoodCourt'] = test['FoodCourt'].fillna(test['FoodCourt'].mean())\n",
    "test['ShoppingMall'] = test['ShoppingMall'].fillna(test['ShoppingMall'].mean())\n",
    "test['Spa'] = test['Spa'].fillna(test['Spa'].mean())\n",
    "test['VRDeck'] = test['VRDeck'].fillna(test['VRDeck'].mean())"
   ]
  },
  {
   "cell_type": "code",
   "execution_count": 223,
   "id": "c8e88878",
   "metadata": {},
   "outputs": [],
   "source": [
    "#Replacing columns with mode (i.e. frequently occuring value in categorical variables)\n",
    "test['HomePlanet'] = test['HomePlanet'].fillna(test['HomePlanet'].mode()[0])\n",
    "test['CryoSleep'] = test['CryoSleep'].fillna(test['CryoSleep'].mode()[0])\n",
    "test['Destination'] = test['Destination'].fillna(test['Destination'].mode()[0])"
   ]
  },
  {
   "cell_type": "code",
   "execution_count": 224,
   "id": "07719af4",
   "metadata": {},
   "outputs": [],
   "source": [
    "#Replacing columns with median\n",
    "test['Age'] = test['Age'].fillna(test['Age'].median())"
   ]
  },
  {
   "cell_type": "code",
   "execution_count": 225,
   "id": "c396500f",
   "metadata": {},
   "outputs": [],
   "source": [
    "#Encoding the categorical columns\n",
    "t_dummy = pd.get_dummies(test['HomePlanet'])\n",
    "c_dummy = pd.get_dummies(test['CryoSleep'])\n",
    "d_dummy = pd.get_dummies(test['Destination'])"
   ]
  },
  {
   "cell_type": "code",
   "execution_count": 226,
   "id": "6bc90518",
   "metadata": {},
   "outputs": [
    {
     "data": {
      "text/html": [
       "<div>\n",
       "<style scoped>\n",
       "    .dataframe tbody tr th:only-of-type {\n",
       "        vertical-align: middle;\n",
       "    }\n",
       "\n",
       "    .dataframe tbody tr th {\n",
       "        vertical-align: top;\n",
       "    }\n",
       "\n",
       "    .dataframe thead th {\n",
       "        text-align: right;\n",
       "    }\n",
       "</style>\n",
       "<table border=\"1\" class=\"dataframe\">\n",
       "  <thead>\n",
       "    <tr style=\"text-align: right;\">\n",
       "      <th></th>\n",
       "      <th>HomePlanet</th>\n",
       "      <th>CryoSleep</th>\n",
       "      <th>Destination</th>\n",
       "      <th>Age</th>\n",
       "      <th>RoomService</th>\n",
       "      <th>FoodCourt</th>\n",
       "      <th>ShoppingMall</th>\n",
       "      <th>Spa</th>\n",
       "      <th>VRDeck</th>\n",
       "      <th>Earth</th>\n",
       "      <th>Europa</th>\n",
       "      <th>Mars</th>\n",
       "      <th>False</th>\n",
       "      <th>True</th>\n",
       "      <th>55 Cancri e</th>\n",
       "      <th>PSO J318.5-22</th>\n",
       "      <th>TRAPPIST-1e</th>\n",
       "    </tr>\n",
       "  </thead>\n",
       "  <tbody>\n",
       "    <tr>\n",
       "      <th>0</th>\n",
       "      <td>Earth</td>\n",
       "      <td>True</td>\n",
       "      <td>TRAPPIST-1e</td>\n",
       "      <td>27.0</td>\n",
       "      <td>0.0</td>\n",
       "      <td>0.0</td>\n",
       "      <td>0.0</td>\n",
       "      <td>0.0</td>\n",
       "      <td>0.0</td>\n",
       "      <td>1</td>\n",
       "      <td>0</td>\n",
       "      <td>0</td>\n",
       "      <td>0</td>\n",
       "      <td>1</td>\n",
       "      <td>0</td>\n",
       "      <td>0</td>\n",
       "      <td>1</td>\n",
       "    </tr>\n",
       "    <tr>\n",
       "      <th>1</th>\n",
       "      <td>Earth</td>\n",
       "      <td>False</td>\n",
       "      <td>TRAPPIST-1e</td>\n",
       "      <td>19.0</td>\n",
       "      <td>0.0</td>\n",
       "      <td>9.0</td>\n",
       "      <td>0.0</td>\n",
       "      <td>2823.0</td>\n",
       "      <td>0.0</td>\n",
       "      <td>1</td>\n",
       "      <td>0</td>\n",
       "      <td>0</td>\n",
       "      <td>1</td>\n",
       "      <td>0</td>\n",
       "      <td>0</td>\n",
       "      <td>0</td>\n",
       "      <td>1</td>\n",
       "    </tr>\n",
       "    <tr>\n",
       "      <th>2</th>\n",
       "      <td>Europa</td>\n",
       "      <td>True</td>\n",
       "      <td>55 Cancri e</td>\n",
       "      <td>31.0</td>\n",
       "      <td>0.0</td>\n",
       "      <td>0.0</td>\n",
       "      <td>0.0</td>\n",
       "      <td>0.0</td>\n",
       "      <td>0.0</td>\n",
       "      <td>0</td>\n",
       "      <td>1</td>\n",
       "      <td>0</td>\n",
       "      <td>0</td>\n",
       "      <td>1</td>\n",
       "      <td>1</td>\n",
       "      <td>0</td>\n",
       "      <td>0</td>\n",
       "    </tr>\n",
       "    <tr>\n",
       "      <th>3</th>\n",
       "      <td>Europa</td>\n",
       "      <td>False</td>\n",
       "      <td>TRAPPIST-1e</td>\n",
       "      <td>38.0</td>\n",
       "      <td>0.0</td>\n",
       "      <td>6652.0</td>\n",
       "      <td>0.0</td>\n",
       "      <td>181.0</td>\n",
       "      <td>585.0</td>\n",
       "      <td>0</td>\n",
       "      <td>1</td>\n",
       "      <td>0</td>\n",
       "      <td>1</td>\n",
       "      <td>0</td>\n",
       "      <td>0</td>\n",
       "      <td>0</td>\n",
       "      <td>1</td>\n",
       "    </tr>\n",
       "    <tr>\n",
       "      <th>4</th>\n",
       "      <td>Earth</td>\n",
       "      <td>False</td>\n",
       "      <td>TRAPPIST-1e</td>\n",
       "      <td>20.0</td>\n",
       "      <td>10.0</td>\n",
       "      <td>0.0</td>\n",
       "      <td>635.0</td>\n",
       "      <td>0.0</td>\n",
       "      <td>0.0</td>\n",
       "      <td>1</td>\n",
       "      <td>0</td>\n",
       "      <td>0</td>\n",
       "      <td>1</td>\n",
       "      <td>0</td>\n",
       "      <td>0</td>\n",
       "      <td>0</td>\n",
       "      <td>1</td>\n",
       "    </tr>\n",
       "    <tr>\n",
       "      <th>...</th>\n",
       "      <td>...</td>\n",
       "      <td>...</td>\n",
       "      <td>...</td>\n",
       "      <td>...</td>\n",
       "      <td>...</td>\n",
       "      <td>...</td>\n",
       "      <td>...</td>\n",
       "      <td>...</td>\n",
       "      <td>...</td>\n",
       "      <td>...</td>\n",
       "      <td>...</td>\n",
       "      <td>...</td>\n",
       "      <td>...</td>\n",
       "      <td>...</td>\n",
       "      <td>...</td>\n",
       "      <td>...</td>\n",
       "      <td>...</td>\n",
       "    </tr>\n",
       "    <tr>\n",
       "      <th>4272</th>\n",
       "      <td>Earth</td>\n",
       "      <td>True</td>\n",
       "      <td>TRAPPIST-1e</td>\n",
       "      <td>34.0</td>\n",
       "      <td>0.0</td>\n",
       "      <td>0.0</td>\n",
       "      <td>0.0</td>\n",
       "      <td>0.0</td>\n",
       "      <td>0.0</td>\n",
       "      <td>1</td>\n",
       "      <td>0</td>\n",
       "      <td>0</td>\n",
       "      <td>0</td>\n",
       "      <td>1</td>\n",
       "      <td>0</td>\n",
       "      <td>0</td>\n",
       "      <td>1</td>\n",
       "    </tr>\n",
       "    <tr>\n",
       "      <th>4273</th>\n",
       "      <td>Earth</td>\n",
       "      <td>False</td>\n",
       "      <td>TRAPPIST-1e</td>\n",
       "      <td>42.0</td>\n",
       "      <td>0.0</td>\n",
       "      <td>847.0</td>\n",
       "      <td>17.0</td>\n",
       "      <td>10.0</td>\n",
       "      <td>144.0</td>\n",
       "      <td>1</td>\n",
       "      <td>0</td>\n",
       "      <td>0</td>\n",
       "      <td>1</td>\n",
       "      <td>0</td>\n",
       "      <td>0</td>\n",
       "      <td>0</td>\n",
       "      <td>1</td>\n",
       "    </tr>\n",
       "    <tr>\n",
       "      <th>4274</th>\n",
       "      <td>Mars</td>\n",
       "      <td>True</td>\n",
       "      <td>55 Cancri e</td>\n",
       "      <td>26.0</td>\n",
       "      <td>0.0</td>\n",
       "      <td>0.0</td>\n",
       "      <td>0.0</td>\n",
       "      <td>0.0</td>\n",
       "      <td>0.0</td>\n",
       "      <td>0</td>\n",
       "      <td>0</td>\n",
       "      <td>1</td>\n",
       "      <td>0</td>\n",
       "      <td>1</td>\n",
       "      <td>1</td>\n",
       "      <td>0</td>\n",
       "      <td>0</td>\n",
       "    </tr>\n",
       "    <tr>\n",
       "      <th>4275</th>\n",
       "      <td>Europa</td>\n",
       "      <td>False</td>\n",
       "      <td>TRAPPIST-1e</td>\n",
       "      <td>26.0</td>\n",
       "      <td>0.0</td>\n",
       "      <td>2680.0</td>\n",
       "      <td>0.0</td>\n",
       "      <td>0.0</td>\n",
       "      <td>523.0</td>\n",
       "      <td>0</td>\n",
       "      <td>1</td>\n",
       "      <td>0</td>\n",
       "      <td>1</td>\n",
       "      <td>0</td>\n",
       "      <td>0</td>\n",
       "      <td>0</td>\n",
       "      <td>1</td>\n",
       "    </tr>\n",
       "    <tr>\n",
       "      <th>4276</th>\n",
       "      <td>Earth</td>\n",
       "      <td>True</td>\n",
       "      <td>PSO J318.5-22</td>\n",
       "      <td>43.0</td>\n",
       "      <td>0.0</td>\n",
       "      <td>0.0</td>\n",
       "      <td>0.0</td>\n",
       "      <td>0.0</td>\n",
       "      <td>0.0</td>\n",
       "      <td>1</td>\n",
       "      <td>0</td>\n",
       "      <td>0</td>\n",
       "      <td>0</td>\n",
       "      <td>1</td>\n",
       "      <td>0</td>\n",
       "      <td>1</td>\n",
       "      <td>0</td>\n",
       "    </tr>\n",
       "  </tbody>\n",
       "</table>\n",
       "<p>4277 rows × 17 columns</p>\n",
       "</div>"
      ],
      "text/plain": [
       "     HomePlanet  CryoSleep    Destination   Age  RoomService  FoodCourt  \\\n",
       "0         Earth       True    TRAPPIST-1e  27.0          0.0        0.0   \n",
       "1         Earth      False    TRAPPIST-1e  19.0          0.0        9.0   \n",
       "2        Europa       True    55 Cancri e  31.0          0.0        0.0   \n",
       "3        Europa      False    TRAPPIST-1e  38.0          0.0     6652.0   \n",
       "4         Earth      False    TRAPPIST-1e  20.0         10.0        0.0   \n",
       "...         ...        ...            ...   ...          ...        ...   \n",
       "4272      Earth       True    TRAPPIST-1e  34.0          0.0        0.0   \n",
       "4273      Earth      False    TRAPPIST-1e  42.0          0.0      847.0   \n",
       "4274       Mars       True    55 Cancri e  26.0          0.0        0.0   \n",
       "4275     Europa      False    TRAPPIST-1e  26.0          0.0     2680.0   \n",
       "4276      Earth       True  PSO J318.5-22  43.0          0.0        0.0   \n",
       "\n",
       "      ShoppingMall     Spa  VRDeck  Earth  Europa  Mars  False  True  \\\n",
       "0              0.0     0.0     0.0      1       0     0      0     1   \n",
       "1              0.0  2823.0     0.0      1       0     0      1     0   \n",
       "2              0.0     0.0     0.0      0       1     0      0     1   \n",
       "3              0.0   181.0   585.0      0       1     0      1     0   \n",
       "4            635.0     0.0     0.0      1       0     0      1     0   \n",
       "...            ...     ...     ...    ...     ...   ...    ...   ...   \n",
       "4272           0.0     0.0     0.0      1       0     0      0     1   \n",
       "4273          17.0    10.0   144.0      1       0     0      1     0   \n",
       "4274           0.0     0.0     0.0      0       0     1      0     1   \n",
       "4275           0.0     0.0   523.0      0       1     0      1     0   \n",
       "4276           0.0     0.0     0.0      1       0     0      0     1   \n",
       "\n",
       "      55 Cancri e  PSO J318.5-22  TRAPPIST-1e  \n",
       "0               0              0            1  \n",
       "1               0              0            1  \n",
       "2               1              0            0  \n",
       "3               0              0            1  \n",
       "4               0              0            1  \n",
       "...           ...            ...          ...  \n",
       "4272            0              0            1  \n",
       "4273            0              0            1  \n",
       "4274            1              0            0  \n",
       "4275            0              0            1  \n",
       "4276            0              1            0  \n",
       "\n",
       "[4277 rows x 17 columns]"
      ]
     },
     "execution_count": 226,
     "metadata": {},
     "output_type": "execute_result"
    }
   ],
   "source": [
    "m1 = pd.concat([test, t_dummy], axis=1)\n",
    "m2 = pd.concat([m1, c_dummy], axis=1)\n",
    "m3 = pd.concat([m2, d_dummy], axis=1)\n",
    "m3"
   ]
  },
  {
   "cell_type": "code",
   "execution_count": 227,
   "id": "5d36cd56",
   "metadata": {},
   "outputs": [
    {
     "data": {
      "text/html": [
       "<div>\n",
       "<style scoped>\n",
       "    .dataframe tbody tr th:only-of-type {\n",
       "        vertical-align: middle;\n",
       "    }\n",
       "\n",
       "    .dataframe tbody tr th {\n",
       "        vertical-align: top;\n",
       "    }\n",
       "\n",
       "    .dataframe thead th {\n",
       "        text-align: right;\n",
       "    }\n",
       "</style>\n",
       "<table border=\"1\" class=\"dataframe\">\n",
       "  <thead>\n",
       "    <tr style=\"text-align: right;\">\n",
       "      <th></th>\n",
       "      <th>Age</th>\n",
       "      <th>RoomService</th>\n",
       "      <th>FoodCourt</th>\n",
       "      <th>ShoppingMall</th>\n",
       "      <th>Spa</th>\n",
       "      <th>VRDeck</th>\n",
       "      <th>Earth</th>\n",
       "      <th>Europa</th>\n",
       "      <th>Mars</th>\n",
       "      <th>False</th>\n",
       "      <th>True</th>\n",
       "      <th>55 Cancri e</th>\n",
       "      <th>PSO J318.5-22</th>\n",
       "      <th>TRAPPIST-1e</th>\n",
       "    </tr>\n",
       "  </thead>\n",
       "  <tbody>\n",
       "    <tr>\n",
       "      <th>0</th>\n",
       "      <td>27.0</td>\n",
       "      <td>0.0</td>\n",
       "      <td>0.0</td>\n",
       "      <td>0.0</td>\n",
       "      <td>0.0</td>\n",
       "      <td>0.0</td>\n",
       "      <td>1</td>\n",
       "      <td>0</td>\n",
       "      <td>0</td>\n",
       "      <td>0</td>\n",
       "      <td>1</td>\n",
       "      <td>0</td>\n",
       "      <td>0</td>\n",
       "      <td>1</td>\n",
       "    </tr>\n",
       "    <tr>\n",
       "      <th>1</th>\n",
       "      <td>19.0</td>\n",
       "      <td>0.0</td>\n",
       "      <td>9.0</td>\n",
       "      <td>0.0</td>\n",
       "      <td>2823.0</td>\n",
       "      <td>0.0</td>\n",
       "      <td>1</td>\n",
       "      <td>0</td>\n",
       "      <td>0</td>\n",
       "      <td>1</td>\n",
       "      <td>0</td>\n",
       "      <td>0</td>\n",
       "      <td>0</td>\n",
       "      <td>1</td>\n",
       "    </tr>\n",
       "    <tr>\n",
       "      <th>2</th>\n",
       "      <td>31.0</td>\n",
       "      <td>0.0</td>\n",
       "      <td>0.0</td>\n",
       "      <td>0.0</td>\n",
       "      <td>0.0</td>\n",
       "      <td>0.0</td>\n",
       "      <td>0</td>\n",
       "      <td>1</td>\n",
       "      <td>0</td>\n",
       "      <td>0</td>\n",
       "      <td>1</td>\n",
       "      <td>1</td>\n",
       "      <td>0</td>\n",
       "      <td>0</td>\n",
       "    </tr>\n",
       "    <tr>\n",
       "      <th>3</th>\n",
       "      <td>38.0</td>\n",
       "      <td>0.0</td>\n",
       "      <td>6652.0</td>\n",
       "      <td>0.0</td>\n",
       "      <td>181.0</td>\n",
       "      <td>585.0</td>\n",
       "      <td>0</td>\n",
       "      <td>1</td>\n",
       "      <td>0</td>\n",
       "      <td>1</td>\n",
       "      <td>0</td>\n",
       "      <td>0</td>\n",
       "      <td>0</td>\n",
       "      <td>1</td>\n",
       "    </tr>\n",
       "    <tr>\n",
       "      <th>4</th>\n",
       "      <td>20.0</td>\n",
       "      <td>10.0</td>\n",
       "      <td>0.0</td>\n",
       "      <td>635.0</td>\n",
       "      <td>0.0</td>\n",
       "      <td>0.0</td>\n",
       "      <td>1</td>\n",
       "      <td>0</td>\n",
       "      <td>0</td>\n",
       "      <td>1</td>\n",
       "      <td>0</td>\n",
       "      <td>0</td>\n",
       "      <td>0</td>\n",
       "      <td>1</td>\n",
       "    </tr>\n",
       "  </tbody>\n",
       "</table>\n",
       "</div>"
      ],
      "text/plain": [
       "    Age  RoomService  FoodCourt  ShoppingMall     Spa  VRDeck  Earth  Europa  \\\n",
       "0  27.0          0.0        0.0           0.0     0.0     0.0      1       0   \n",
       "1  19.0          0.0        9.0           0.0  2823.0     0.0      1       0   \n",
       "2  31.0          0.0        0.0           0.0     0.0     0.0      0       1   \n",
       "3  38.0          0.0     6652.0           0.0   181.0   585.0      0       1   \n",
       "4  20.0         10.0        0.0         635.0     0.0     0.0      1       0   \n",
       "\n",
       "   Mars  False  True  55 Cancri e  PSO J318.5-22  TRAPPIST-1e  \n",
       "0     0      0     1            0              0            1  \n",
       "1     0      1     0            0              0            1  \n",
       "2     0      0     1            1              0            0  \n",
       "3     0      1     0            0              0            1  \n",
       "4     0      1     0            0              0            1  "
      ]
     },
     "execution_count": 227,
     "metadata": {},
     "output_type": "execute_result"
    }
   ],
   "source": [
    "#Dropping the original categorical columns\n",
    "final_test = m3.drop(['HomePlanet', 'CryoSleep', 'Destination'], axis=1)\n",
    "final_test.head()"
   ]
  },
  {
   "cell_type": "code",
   "execution_count": 228,
   "id": "c6b84aa9",
   "metadata": {},
   "outputs": [],
   "source": [
    "age = final_test['Age'].values.reshape(-1, 1)\n",
    "roomservice = final_test['RoomService'].values.reshape(-1, 1)\n",
    "foodcourt = final_test['FoodCourt'].values.reshape(-1, 1)\n",
    "shopping = final_test['ShoppingMall'].values.reshape(-1, 1)\n",
    "spa = final_test['Spa'].values.reshape(-1, 1)\n",
    "vrd = final_test['VRDeck'].values.reshape(-1, 1)"
   ]
  },
  {
   "cell_type": "code",
   "execution_count": 229,
   "id": "afc10200",
   "metadata": {},
   "outputs": [],
   "source": [
    "scaled_age = scalar.fit_transform(age)\n",
    "scaled_room = scalar.fit_transform(roomservice)\n",
    "scaled_food = scalar.fit_transform(foodcourt)\n",
    "scaled_shop = scalar.fit_transform(shopping)\n",
    "scaled_spa = scalar.fit_transform(spa)\n",
    "scaled_vrd = scalar.fit_transform(vrd)"
   ]
  },
  {
   "cell_type": "code",
   "execution_count": 230,
   "id": "314ed5b3",
   "metadata": {},
   "outputs": [],
   "source": [
    "final_test['Age'] = scaled_age\n",
    "final_test['RoomService'] = scaled_room\n",
    "final_test['FoodCourt'] = scaled_food\n",
    "final_test['ShoppingMall'] = scaled_shop\n",
    "final_test['Spa'] = scaled_spa\n",
    "final_test['VRDeck'] = scaled_vrd"
   ]
  },
  {
   "cell_type": "markdown",
   "id": "13021e5b",
   "metadata": {},
   "source": [
    "# Predicting the Test Dataset using Logistic Regression"
   ]
  },
  {
   "cell_type": "code",
   "execution_count": 249,
   "id": "defbcc3b",
   "metadata": {},
   "outputs": [],
   "source": [
    "#test_predict = lr.predict(final_test)\n",
    "test_predict = svc.predict(final_test)"
   ]
  },
  {
   "cell_type": "code",
   "execution_count": 250,
   "id": "cb9294fd",
   "metadata": {},
   "outputs": [],
   "source": [
    "#temp_test = temp_test['PassengerId']"
   ]
  },
  {
   "cell_type": "code",
   "execution_count": 251,
   "id": "f1290364",
   "metadata": {},
   "outputs": [],
   "source": [
    "#Submission dataframe\n",
    "\n",
    "submit = pd.DataFrame(columns=['PassengerId', 'Transported'])\n",
    "submit['PassengerId'] = temp_test\n",
    "submit['Transported'] = test_predict"
   ]
  },
  {
   "cell_type": "code",
   "execution_count": 252,
   "id": "00de8ce2",
   "metadata": {},
   "outputs": [],
   "source": [
    "submit.to_csv('Predictions.csv', index=False)"
   ]
  },
  {
   "cell_type": "code",
   "execution_count": 253,
   "id": "eaa1d3ff",
   "metadata": {},
   "outputs": [
    {
     "data": {
      "text/html": [
       "<div>\n",
       "<style scoped>\n",
       "    .dataframe tbody tr th:only-of-type {\n",
       "        vertical-align: middle;\n",
       "    }\n",
       "\n",
       "    .dataframe tbody tr th {\n",
       "        vertical-align: top;\n",
       "    }\n",
       "\n",
       "    .dataframe thead th {\n",
       "        text-align: right;\n",
       "    }\n",
       "</style>\n",
       "<table border=\"1\" class=\"dataframe\">\n",
       "  <thead>\n",
       "    <tr style=\"text-align: right;\">\n",
       "      <th></th>\n",
       "      <th>PassengerId</th>\n",
       "      <th>Transported</th>\n",
       "    </tr>\n",
       "  </thead>\n",
       "  <tbody>\n",
       "    <tr>\n",
       "      <th>0</th>\n",
       "      <td>0013_01</td>\n",
       "      <td>True</td>\n",
       "    </tr>\n",
       "    <tr>\n",
       "      <th>1</th>\n",
       "      <td>0018_01</td>\n",
       "      <td>False</td>\n",
       "    </tr>\n",
       "    <tr>\n",
       "      <th>2</th>\n",
       "      <td>0019_01</td>\n",
       "      <td>True</td>\n",
       "    </tr>\n",
       "    <tr>\n",
       "      <th>3</th>\n",
       "      <td>0021_01</td>\n",
       "      <td>True</td>\n",
       "    </tr>\n",
       "    <tr>\n",
       "      <th>4</th>\n",
       "      <td>0023_01</td>\n",
       "      <td>True</td>\n",
       "    </tr>\n",
       "    <tr>\n",
       "      <th>...</th>\n",
       "      <td>...</td>\n",
       "      <td>...</td>\n",
       "    </tr>\n",
       "    <tr>\n",
       "      <th>4272</th>\n",
       "      <td>9266_02</td>\n",
       "      <td>True</td>\n",
       "    </tr>\n",
       "    <tr>\n",
       "      <th>4273</th>\n",
       "      <td>9269_01</td>\n",
       "      <td>False</td>\n",
       "    </tr>\n",
       "    <tr>\n",
       "      <th>4274</th>\n",
       "      <td>9271_01</td>\n",
       "      <td>True</td>\n",
       "    </tr>\n",
       "    <tr>\n",
       "      <th>4275</th>\n",
       "      <td>9273_01</td>\n",
       "      <td>True</td>\n",
       "    </tr>\n",
       "    <tr>\n",
       "      <th>4276</th>\n",
       "      <td>9277_01</td>\n",
       "      <td>True</td>\n",
       "    </tr>\n",
       "  </tbody>\n",
       "</table>\n",
       "<p>4277 rows × 2 columns</p>\n",
       "</div>"
      ],
      "text/plain": [
       "     PassengerId  Transported\n",
       "0        0013_01         True\n",
       "1        0018_01        False\n",
       "2        0019_01         True\n",
       "3        0021_01         True\n",
       "4        0023_01         True\n",
       "...          ...          ...\n",
       "4272     9266_02         True\n",
       "4273     9269_01        False\n",
       "4274     9271_01         True\n",
       "4275     9273_01         True\n",
       "4276     9277_01         True\n",
       "\n",
       "[4277 rows x 2 columns]"
      ]
     },
     "execution_count": 253,
     "metadata": {},
     "output_type": "execute_result"
    }
   ],
   "source": [
    "pd.read_csv('Predictions.csv')"
   ]
  },
  {
   "cell_type": "code",
   "execution_count": null,
   "id": "3f0a000a",
   "metadata": {},
   "outputs": [],
   "source": []
  }
 ],
 "metadata": {
  "kernelspec": {
   "display_name": "Python 3 (ipykernel)",
   "language": "python",
   "name": "python3"
  },
  "language_info": {
   "codemirror_mode": {
    "name": "ipython",
    "version": 3
   },
   "file_extension": ".py",
   "mimetype": "text/x-python",
   "name": "python",
   "nbconvert_exporter": "python",
   "pygments_lexer": "ipython3",
   "version": "3.8.8"
  }
 },
 "nbformat": 4,
 "nbformat_minor": 5
}
