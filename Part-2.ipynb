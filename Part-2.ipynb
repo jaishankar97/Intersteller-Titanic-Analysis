{
 "cells": [
  {
   "cell_type": "code",
   "execution_count": 1,
   "id": "d80bf35f",
   "metadata": {},
   "outputs": [],
   "source": [
    "import numpy as np\n",
    "import pandas as pd\n",
    "import matplotlib.pyplot as plt\n",
    "import seaborn as sns\n",
    "\n",
    "from sklearn.preprocessing import MinMaxScaler\n",
    "from sklearn.model_selection import train_test_split, GridSearchCV, RepeatedStratifiedKFold\n",
    "from sklearn.linear_model import LogisticRegression\n",
    "from sklearn.ensemble import RandomForestClassifier\n",
    "from sklearn.metrics import confusion_matrix, classification_report\n",
    "\n",
    "import warnings\n",
    "warnings.filterwarnings('ignore')\n",
    "\n",
    "%matplotlib inline"
   ]
  },
  {
   "cell_type": "code",
   "execution_count": 2,
   "id": "c3883b08",
   "metadata": {},
   "outputs": [],
   "source": [
    "data = pd.read_csv('train.csv')"
   ]
  },
  {
   "cell_type": "code",
   "execution_count": 3,
   "id": "8e72db0f",
   "metadata": {},
   "outputs": [],
   "source": [
    "def sep_PID(data):\n",
    "    \n",
    "    \"\"\"Data = Dataset to work on. Will compare how many passengers are in a group and will write their frequencies \n",
    "    inplace of PassengerId. (Need further memory optimisation.)\"\"\"\n",
    "    \n",
    "    data['PassengerId'] = [i.split('_')[0] for i in data['PassengerId']]\n",
    "    \n",
    "    d = {}\n",
    "    uq = []\n",
    "\n",
    "    for i in range(len(data)):\n",
    "\n",
    "        if data['PassengerId'][i] not in uq:\n",
    "            d[data['PassengerId'][i]] = 0\n",
    "            uq.append(data['PassengerId'][i])\n",
    "\n",
    "        if data['PassengerId'][i] in uq:\n",
    "            d[data['PassengerId'][i]] += 1\n",
    "    \n",
    "    \n",
    "    data['Group'] = 0\n",
    "    \n",
    "    for i in range(len(data)):\n",
    "\n",
    "        if data['PassengerId'][i] in d:\n",
    "            data['Group'][i] = d[data['PassengerId'][i]]\n",
    "    \n",
    "    return data"
   ]
  },
  {
   "cell_type": "code",
   "execution_count": 4,
   "id": "e53e71b2",
   "metadata": {},
   "outputs": [],
   "source": [
    "def sep_Cabin(data):\n",
    "    \n",
    "    \"\"\"data = Dataset to work on. Splits the cabin column into Deck, Seat number, and side the passenger is \n",
    "    travelling. (Need further memory optimisation. )\"\"\"\n",
    "    \n",
    "    data['Deck'] = 0\n",
    "    data['Num'] = 0\n",
    "    data['Side'] = 0\n",
    "    \n",
    "    for i in range(len(data)):\n",
    "    \n",
    "        if pd.isnull(data['Cabin'][i]) is False:\n",
    "            data['Deck'][i] = data['Cabin'][i].split('/')[0]\n",
    "            data['Num'][i] = data['Cabin'][i].split('/')[1] \n",
    "            data['Side'][i] = data['Cabin'][i].split('/')[2] \n",
    "\n",
    "        else:\n",
    "\n",
    "            data['Deck'][i] = np.nan\n",
    "            data['Num'][i] = np.nan\n",
    "            data['Side'][i] = np.nan\n",
    "        \n",
    "    return data"
   ]
  },
  {
   "cell_type": "code",
   "execution_count": 5,
   "id": "f30986a3",
   "metadata": {},
   "outputs": [],
   "source": [
    "#Replacing column with mean\n",
    "def _col(data, col, tp):\n",
    "    \n",
    "    \"\"\"data = Dataset to work on. \n",
    "       col = The column to work on. \n",
    "       tp = Type of statistical operation: 'Mean/Median/Mode'.\"\"\"\n",
    "    \n",
    "    if tp == 'mean':\n",
    "        data[col] = data[col].fillna(data[col].mean())\n",
    "        \n",
    "    if tp == 'mode':    \n",
    "        data[col] = data[col].fillna(data[col].mode()[0])\n",
    "    \n",
    "    if tp == 'median':\n",
    "        data[col] = data[col].fillna(data[col].median())\n",
    "    \n",
    "    return data[col]\n",
    "\n",
    "def rep_(data, cols, tp):\n",
    "    \n",
    "    \"\"\"data = Dataset to work on. \n",
    "       cols = List of columns consisting of column names. \n",
    "       tp = Type of statistical operation: 'Mean/Median/Mode'.\"\"\"\n",
    "    \n",
    "    for i in range(len(cols)):\n",
    "\n",
    "        data[cols[i]] = _col(data, cols[i], tp)\n",
    "    \n",
    "    return data"
   ]
  },
  {
   "cell_type": "code",
   "execution_count": 6,
   "id": "6991e4d5",
   "metadata": {},
   "outputs": [],
   "source": [
    "def encod(data, col):\n",
    "    \n",
    "    \"\"\"data = Dataset to work on. \n",
    "       col = Column name to apply function. \"\"\"\n",
    "    \n",
    "    dum = pd.get_dummies(data[col])\n",
    "    \n",
    "    return dum\n",
    "\n",
    "def add_enc(data, cols):\n",
    "    \n",
    "    \"\"\"data = Dataset to work on. \n",
    "       cols = List of column names to apply encoding using dummy. \"\"\"\n",
    "    \n",
    "    for i in range(len(cols)):\n",
    "        \n",
    "        data = pd.concat([data, encod(data, cols[i])], axis=1)\n",
    "        \n",
    "    return data"
   ]
  },
  {
   "cell_type": "code",
   "execution_count": 7,
   "id": "a9ef61ae",
   "metadata": {},
   "outputs": [],
   "source": [
    "def scal(data, scalar, col):\n",
    "    \n",
    "    \"\"\"data = Dataset to work on.\n",
    "       scalar = MinMaxScalar object.\n",
    "       col = The column name to scale. \"\"\"\n",
    "    \n",
    "    c = data[col].values.reshape(-1, 1)\n",
    "    sc = scalar.fit_transform(c)\n",
    "    data[col] = sc\n",
    "    \n",
    "    return data[col]\n",
    "\n",
    "def col_scal(data, scalar, cols):\n",
    "    \n",
    "    \"\"\"data = The dataset to work on.\n",
    "       scalar = MinMaxScalar object. \n",
    "       cols = List of columns to apply scaling. \"\"\"\n",
    "    \n",
    "    for i in range(len(cols)):\n",
    "        \n",
    "        data[cols[i]] = scal(data, scalar, cols[i])\n",
    "        \n",
    "    return data"
   ]
  },
  {
   "cell_type": "code",
   "execution_count": 8,
   "id": "dd29f028",
   "metadata": {},
   "outputs": [],
   "source": [
    "#Separating Passenger ID\n",
    "data = sep_PID(data)"
   ]
  },
  {
   "cell_type": "code",
   "execution_count": 9,
   "id": "ff697626",
   "metadata": {},
   "outputs": [],
   "source": [
    "#Separating Cabin\n",
    "data = sep_Cabin(data)"
   ]
  },
  {
   "cell_type": "code",
   "execution_count": 10,
   "id": "7c473fe4",
   "metadata": {},
   "outputs": [],
   "source": [
    "#Filling Null Values\n",
    "cols = ['RoomService', 'FoodCourt', 'ShoppingMall', 'Spa', 'VRDeck', 'Num']\n",
    "mod_col = ['HomePlanet', 'CryoSleep', 'Destination', 'Deck', 'Side']\n",
    "med_col = ['Age']\n",
    "\n",
    "data = rep_(data, cols, 'mean')\n",
    "data = rep_(data, mod_col, 'mode')\n",
    "data = rep_(data, med_col, 'median')"
   ]
  },
  {
   "cell_type": "code",
   "execution_count": 11,
   "id": "c175e9ba",
   "metadata": {},
   "outputs": [],
   "source": [
    "#Encoding Columns\n",
    "enc_cols = ['HomePlanet', 'CryoSleep', 'Destination', 'Deck', 'Side']\n",
    "data = add_enc(data, enc_cols)"
   ]
  },
  {
   "cell_type": "code",
   "execution_count": 12,
   "id": "33bbf026",
   "metadata": {},
   "outputs": [],
   "source": [
    "#Dropping unnecessary columns\n",
    "drop_col = ['PassengerId', 'HomePlanet', 'CryoSleep', 'Cabin', 'Destination', 'VIP', \n",
    "            'Name', 'Deck', 'Side']\n",
    "data.drop(drop_col, axis=1, inplace=True)"
   ]
  },
  {
   "cell_type": "code",
   "execution_count": 13,
   "id": "694bc21b",
   "metadata": {},
   "outputs": [],
   "source": [
    "#Scaling columns\n",
    "scal_cols = ['Age', 'RoomService', 'FoodCourt', 'ShoppingMall', 'Spa', 'VRDeck', 'Num', 'Group']\n",
    "data = col_scal(data, MinMaxScaler(), scal_cols)"
   ]
  },
  {
   "cell_type": "code",
   "execution_count": 14,
   "id": "ecd74b9d",
   "metadata": {},
   "outputs": [],
   "source": [
    "#Splitting the data"
   ]
  },
  {
   "cell_type": "code",
   "execution_count": 15,
   "id": "7dd2d7bb",
   "metadata": {},
   "outputs": [],
   "source": [
    "X = data.drop('Transported', axis=1)\n",
    "Y = data['Transported']"
   ]
  },
  {
   "cell_type": "code",
   "execution_count": 43,
   "id": "156c9753",
   "metadata": {},
   "outputs": [],
   "source": [
    "X_train, X_test, Y_train, Y_test = train_test_split(X, Y, test_size=0.05)"
   ]
  },
  {
   "cell_type": "markdown",
   "id": "7d3f40b0",
   "metadata": {},
   "source": [
    "# Logistic Regression"
   ]
  },
  {
   "cell_type": "code",
   "execution_count": 17,
   "id": "b5121a99",
   "metadata": {},
   "outputs": [],
   "source": [
    "lr = LogisticRegression()"
   ]
  },
  {
   "cell_type": "code",
   "execution_count": 18,
   "id": "b5d2f05c",
   "metadata": {},
   "outputs": [],
   "source": [
    "solvers = ['newton-cg', 'lbfgs', 'liblinear']\n",
    "penalty = ['l2']\n",
    "c_values = [2000, 100, 10]"
   ]
  },
  {
   "cell_type": "code",
   "execution_count": 19,
   "id": "cd71614e",
   "metadata": {},
   "outputs": [],
   "source": [
    "LRgrid = dict(solver=solvers,penalty=penalty,C=c_values)"
   ]
  },
  {
   "cell_type": "code",
   "execution_count": 20,
   "id": "27b9b373",
   "metadata": {},
   "outputs": [],
   "source": [
    "LRcv = RepeatedStratifiedKFold(n_splits=10, n_repeats=3, random_state=1)"
   ]
  },
  {
   "cell_type": "code",
   "execution_count": 21,
   "id": "eb7cff5e",
   "metadata": {},
   "outputs": [],
   "source": [
    "LRgrid_search = GridSearchCV(estimator=lr, param_grid=LRgrid, n_jobs=-1, cv=LRcv, scoring='accuracy',error_score=0)"
   ]
  },
  {
   "cell_type": "code",
   "execution_count": 22,
   "id": "f449cc7b",
   "metadata": {},
   "outputs": [],
   "source": [
    "LRgrid_result = LRgrid_search.fit(X, Y)"
   ]
  },
  {
   "cell_type": "code",
   "execution_count": 23,
   "id": "8121375b",
   "metadata": {},
   "outputs": [
    {
     "name": "stdout",
     "output_type": "stream",
     "text": [
      "Best: 0.792399 using {'C': 2000, 'penalty': 'l2', 'solver': 'newton-cg'}\n"
     ]
    }
   ],
   "source": [
    "print(\"Best: %f using %s\" % (LRgrid_result.best_score_, LRgrid_result.best_params_))"
   ]
  },
  {
   "cell_type": "code",
   "execution_count": 24,
   "id": "0a0c9fca",
   "metadata": {},
   "outputs": [
    {
     "name": "stdout",
     "output_type": "stream",
     "text": [
      "0.792399 (0.014421) with: {'C': 2000, 'penalty': 'l2', 'solver': 'newton-cg'}\n",
      "0.791555 (0.014684) with: {'C': 2000, 'penalty': 'l2', 'solver': 'lbfgs'}\n",
      "0.792322 (0.014458) with: {'C': 2000, 'penalty': 'l2', 'solver': 'liblinear'}\n",
      "0.790098 (0.014239) with: {'C': 100, 'penalty': 'l2', 'solver': 'newton-cg'}\n",
      "0.789830 (0.014591) with: {'C': 100, 'penalty': 'l2', 'solver': 'lbfgs'}\n",
      "0.790136 (0.014204) with: {'C': 100, 'penalty': 'l2', 'solver': 'liblinear'}\n",
      "0.786839 (0.014551) with: {'C': 10, 'penalty': 'l2', 'solver': 'newton-cg'}\n",
      "0.786532 (0.014596) with: {'C': 10, 'penalty': 'l2', 'solver': 'lbfgs'}\n",
      "0.786839 (0.014551) with: {'C': 10, 'penalty': 'l2', 'solver': 'liblinear'}\n",
      "0.768740 (0.011115) with: {'C': 1.0, 'penalty': 'l2', 'solver': 'newton-cg'}\n",
      "0.768510 (0.011019) with: {'C': 1.0, 'penalty': 'l2', 'solver': 'lbfgs'}\n",
      "0.768664 (0.011212) with: {'C': 1.0, 'penalty': 'l2', 'solver': 'liblinear'}\n",
      "0.746616 (0.011549) with: {'C': 0.1, 'penalty': 'l2', 'solver': 'newton-cg'}\n",
      "0.746616 (0.011549) with: {'C': 0.1, 'penalty': 'l2', 'solver': 'lbfgs'}\n",
      "0.747000 (0.011621) with: {'C': 0.1, 'penalty': 'l2', 'solver': 'liblinear'}\n",
      "0.726294 (0.010552) with: {'C': 0.01, 'penalty': 'l2', 'solver': 'newton-cg'}\n",
      "0.726255 (0.010516) with: {'C': 0.01, 'penalty': 'l2', 'solver': 'lbfgs'}\n",
      "0.727559 (0.010618) with: {'C': 0.01, 'penalty': 'l2', 'solver': 'liblinear'}\n",
      "0.720159 (0.011433) with: {'C': 0.001, 'penalty': 'l2', 'solver': 'newton-cg'}\n",
      "0.720159 (0.011433) with: {'C': 0.001, 'penalty': 'l2', 'solver': 'lbfgs'}\n",
      "0.720543 (0.012036) with: {'C': 0.001, 'penalty': 'l2', 'solver': 'liblinear'}\n"
     ]
    }
   ],
   "source": [
    "means = LRgrid_result.cv_results_['mean_test_score']\n",
    "stds = LRgrid_result.cv_results_['std_test_score']\n",
    "params = LRgrid_result.cv_results_['params']\n",
    "for mean, stdev, param in zip(means, stds, params):\n",
    "    print(\"%f (%f) with: %r\" % (mean, stdev, param))"
   ]
  },
  {
   "cell_type": "code",
   "execution_count": 29,
   "id": "5d1b7f8f",
   "metadata": {},
   "outputs": [],
   "source": [
    "lr = LogisticRegression(penalty='l2', C=2000, solver='newton-cg')"
   ]
  },
  {
   "cell_type": "code",
   "execution_count": 44,
   "id": "7d5d4b45",
   "metadata": {},
   "outputs": [
    {
     "data": {
      "text/plain": [
       "LogisticRegression(C=2000, solver='newton-cg')"
      ]
     },
     "execution_count": 44,
     "metadata": {},
     "output_type": "execute_result"
    }
   ],
   "source": [
    "lr.fit(X_train, Y_train)"
   ]
  },
  {
   "cell_type": "code",
   "execution_count": 45,
   "id": "9cb86a3f",
   "metadata": {},
   "outputs": [],
   "source": [
    "lrp = lr.predict(X_test)"
   ]
  },
  {
   "cell_type": "code",
   "execution_count": 46,
   "id": "c3259bd5",
   "metadata": {},
   "outputs": [
    {
     "name": "stdout",
     "output_type": "stream",
     "text": [
      "[[152  48]\n",
      " [ 49 186]]\n",
      "              precision    recall  f1-score   support\n",
      "\n",
      "       False       0.76      0.76      0.76       200\n",
      "        True       0.79      0.79      0.79       235\n",
      "\n",
      "    accuracy                           0.78       435\n",
      "   macro avg       0.78      0.78      0.78       435\n",
      "weighted avg       0.78      0.78      0.78       435\n",
      "\n"
     ]
    }
   ],
   "source": [
    "print(confusion_matrix(Y_test, lrp))\n",
    "print(classification_report(Y_test, lrp))"
   ]
  },
  {
   "cell_type": "markdown",
   "id": "0937db8f",
   "metadata": {},
   "source": [
    "# Random Forest"
   ]
  },
  {
   "cell_type": "code",
   "execution_count": 73,
   "id": "d28c6ad5",
   "metadata": {},
   "outputs": [],
   "source": [
    "rf = RandomForestClassifier()"
   ]
  },
  {
   "cell_type": "code",
   "execution_count": 90,
   "id": "8a0506d9",
   "metadata": {},
   "outputs": [],
   "source": [
    "n_estimators = [1000, 2000, 3000, 4000, 5000]\n",
    "max_features = ['sqrt']\n",
    "criterion = ['gini', 'entropy']"
   ]
  },
  {
   "cell_type": "code",
   "execution_count": 91,
   "id": "d01e85ff",
   "metadata": {},
   "outputs": [],
   "source": [
    "RFgrid = dict(n_estimators=n_estimators, max_features=max_features, criterion = criterion)\n",
    "RFcv = RepeatedStratifiedKFold(n_splits=10, n_repeats=3, random_state=1)\n",
    "RFgrid_search = GridSearchCV(estimator=rf, param_grid=RFgrid, n_jobs=-1, cv=RFcv, scoring='accuracy',error_score=0)\n",
    "RFgrid_result = RFgrid_search.fit(X, Y)"
   ]
  },
  {
   "cell_type": "code",
   "execution_count": 92,
   "id": "f8dedd57",
   "metadata": {},
   "outputs": [
    {
     "name": "stdout",
     "output_type": "stream",
     "text": [
      "Best: 0.804094 using {'criterion': 'entropy', 'max_features': 'sqrt', 'n_estimators': 1000}\n"
     ]
    }
   ],
   "source": [
    "print(\"Best: %f using %s\" % (RFgrid_result.best_score_, RFgrid_result.best_params_))"
   ]
  },
  {
   "cell_type": "code",
   "execution_count": 93,
   "id": "3daa8043",
   "metadata": {},
   "outputs": [
    {
     "name": "stdout",
     "output_type": "stream",
     "text": [
      "0.802675 (0.013741) with: {'criterion': 'gini', 'max_features': 'sqrt', 'n_estimators': 1000}\n",
      "0.803365 (0.013068) with: {'criterion': 'gini', 'max_features': 'sqrt', 'n_estimators': 2000}\n",
      "0.802483 (0.013826) with: {'criterion': 'gini', 'max_features': 'sqrt', 'n_estimators': 3000}\n",
      "0.802369 (0.013059) with: {'criterion': 'gini', 'max_features': 'sqrt', 'n_estimators': 4000}\n",
      "0.802521 (0.013205) with: {'criterion': 'gini', 'max_features': 'sqrt', 'n_estimators': 5000}\n",
      "0.804094 (0.014030) with: {'criterion': 'entropy', 'max_features': 'sqrt', 'n_estimators': 1000}\n",
      "0.803442 (0.013555) with: {'criterion': 'entropy', 'max_features': 'sqrt', 'n_estimators': 2000}\n",
      "0.803212 (0.014108) with: {'criterion': 'entropy', 'max_features': 'sqrt', 'n_estimators': 3000}\n",
      "0.803365 (0.014263) with: {'criterion': 'entropy', 'max_features': 'sqrt', 'n_estimators': 4000}\n",
      "0.803557 (0.014323) with: {'criterion': 'entropy', 'max_features': 'sqrt', 'n_estimators': 5000}\n"
     ]
    }
   ],
   "source": [
    "means = RFgrid_result.cv_results_['mean_test_score']\n",
    "stds = RFgrid_result.cv_results_['std_test_score']\n",
    "params = RFgrid_result.cv_results_['params']\n",
    "for mean, stdev, param in zip(means, stds, params):\n",
    "    print(\"%f (%f) with: %r\" % (mean, stdev, param))"
   ]
  },
  {
   "cell_type": "code",
   "execution_count": 94,
   "id": "9bab1599",
   "metadata": {},
   "outputs": [],
   "source": [
    "rf = RandomForestClassifier(n_estimators=1000, max_features='sqrt', criterion='entropy')"
   ]
  },
  {
   "cell_type": "code",
   "execution_count": 98,
   "id": "aa7f0a26",
   "metadata": {},
   "outputs": [
    {
     "data": {
      "text/plain": [
       "RandomForestClassifier(criterion='entropy', max_features='sqrt',\n",
       "                       n_estimators=1000)"
      ]
     },
     "execution_count": 98,
     "metadata": {},
     "output_type": "execute_result"
    }
   ],
   "source": [
    "rf.fit(X_train, Y_train)"
   ]
  },
  {
   "cell_type": "code",
   "execution_count": 99,
   "id": "4884dcae",
   "metadata": {},
   "outputs": [],
   "source": [
    "rfp = rf.predict(X_test)"
   ]
  },
  {
   "cell_type": "code",
   "execution_count": 100,
   "id": "001d8e00",
   "metadata": {},
   "outputs": [
    {
     "name": "stdout",
     "output_type": "stream",
     "text": [
      "[[165  35]\n",
      " [ 47 188]]\n",
      "              precision    recall  f1-score   support\n",
      "\n",
      "       False       0.78      0.82      0.80       200\n",
      "        True       0.84      0.80      0.82       235\n",
      "\n",
      "    accuracy                           0.81       435\n",
      "   macro avg       0.81      0.81      0.81       435\n",
      "weighted avg       0.81      0.81      0.81       435\n",
      "\n"
     ]
    }
   ],
   "source": [
    "print(confusion_matrix(Y_test, rfp))\n",
    "print(classification_report(Y_test, rfp))"
   ]
  },
  {
   "cell_type": "markdown",
   "id": "908c9c8e",
   "metadata": {},
   "source": [
    "# Cleaning Test set and using RF"
   ]
  },
  {
   "cell_type": "code",
   "execution_count": 101,
   "id": "debaeb3e",
   "metadata": {},
   "outputs": [],
   "source": [
    "test = pd.read_csv('test.csv')\n",
    "temp_test = test.copy()"
   ]
  },
  {
   "cell_type": "code",
   "execution_count": 102,
   "id": "c6fda2cd",
   "metadata": {},
   "outputs": [
    {
     "data": {
      "text/html": [
       "<div>\n",
       "<style scoped>\n",
       "    .dataframe tbody tr th:only-of-type {\n",
       "        vertical-align: middle;\n",
       "    }\n",
       "\n",
       "    .dataframe tbody tr th {\n",
       "        vertical-align: top;\n",
       "    }\n",
       "\n",
       "    .dataframe thead th {\n",
       "        text-align: right;\n",
       "    }\n",
       "</style>\n",
       "<table border=\"1\" class=\"dataframe\">\n",
       "  <thead>\n",
       "    <tr style=\"text-align: right;\">\n",
       "      <th></th>\n",
       "      <th>PassengerId</th>\n",
       "      <th>HomePlanet</th>\n",
       "      <th>CryoSleep</th>\n",
       "      <th>Cabin</th>\n",
       "      <th>Destination</th>\n",
       "      <th>Age</th>\n",
       "      <th>VIP</th>\n",
       "      <th>RoomService</th>\n",
       "      <th>FoodCourt</th>\n",
       "      <th>ShoppingMall</th>\n",
       "      <th>Spa</th>\n",
       "      <th>VRDeck</th>\n",
       "      <th>Name</th>\n",
       "    </tr>\n",
       "  </thead>\n",
       "  <tbody>\n",
       "    <tr>\n",
       "      <th>0</th>\n",
       "      <td>0013_01</td>\n",
       "      <td>Earth</td>\n",
       "      <td>True</td>\n",
       "      <td>G/3/S</td>\n",
       "      <td>TRAPPIST-1e</td>\n",
       "      <td>27.0</td>\n",
       "      <td>False</td>\n",
       "      <td>0.0</td>\n",
       "      <td>0.0</td>\n",
       "      <td>0.0</td>\n",
       "      <td>0.0</td>\n",
       "      <td>0.0</td>\n",
       "      <td>Nelly Carsoning</td>\n",
       "    </tr>\n",
       "    <tr>\n",
       "      <th>1</th>\n",
       "      <td>0018_01</td>\n",
       "      <td>Earth</td>\n",
       "      <td>False</td>\n",
       "      <td>F/4/S</td>\n",
       "      <td>TRAPPIST-1e</td>\n",
       "      <td>19.0</td>\n",
       "      <td>False</td>\n",
       "      <td>0.0</td>\n",
       "      <td>9.0</td>\n",
       "      <td>0.0</td>\n",
       "      <td>2823.0</td>\n",
       "      <td>0.0</td>\n",
       "      <td>Lerome Peckers</td>\n",
       "    </tr>\n",
       "    <tr>\n",
       "      <th>2</th>\n",
       "      <td>0019_01</td>\n",
       "      <td>Europa</td>\n",
       "      <td>True</td>\n",
       "      <td>C/0/S</td>\n",
       "      <td>55 Cancri e</td>\n",
       "      <td>31.0</td>\n",
       "      <td>False</td>\n",
       "      <td>0.0</td>\n",
       "      <td>0.0</td>\n",
       "      <td>0.0</td>\n",
       "      <td>0.0</td>\n",
       "      <td>0.0</td>\n",
       "      <td>Sabih Unhearfus</td>\n",
       "    </tr>\n",
       "    <tr>\n",
       "      <th>3</th>\n",
       "      <td>0021_01</td>\n",
       "      <td>Europa</td>\n",
       "      <td>False</td>\n",
       "      <td>C/1/S</td>\n",
       "      <td>TRAPPIST-1e</td>\n",
       "      <td>38.0</td>\n",
       "      <td>False</td>\n",
       "      <td>0.0</td>\n",
       "      <td>6652.0</td>\n",
       "      <td>0.0</td>\n",
       "      <td>181.0</td>\n",
       "      <td>585.0</td>\n",
       "      <td>Meratz Caltilter</td>\n",
       "    </tr>\n",
       "    <tr>\n",
       "      <th>4</th>\n",
       "      <td>0023_01</td>\n",
       "      <td>Earth</td>\n",
       "      <td>False</td>\n",
       "      <td>F/5/S</td>\n",
       "      <td>TRAPPIST-1e</td>\n",
       "      <td>20.0</td>\n",
       "      <td>False</td>\n",
       "      <td>10.0</td>\n",
       "      <td>0.0</td>\n",
       "      <td>635.0</td>\n",
       "      <td>0.0</td>\n",
       "      <td>0.0</td>\n",
       "      <td>Brence Harperez</td>\n",
       "    </tr>\n",
       "  </tbody>\n",
       "</table>\n",
       "</div>"
      ],
      "text/plain": [
       "  PassengerId HomePlanet CryoSleep  Cabin  Destination   Age    VIP  \\\n",
       "0     0013_01      Earth      True  G/3/S  TRAPPIST-1e  27.0  False   \n",
       "1     0018_01      Earth     False  F/4/S  TRAPPIST-1e  19.0  False   \n",
       "2     0019_01     Europa      True  C/0/S  55 Cancri e  31.0  False   \n",
       "3     0021_01     Europa     False  C/1/S  TRAPPIST-1e  38.0  False   \n",
       "4     0023_01      Earth     False  F/5/S  TRAPPIST-1e  20.0  False   \n",
       "\n",
       "   RoomService  FoodCourt  ShoppingMall     Spa  VRDeck              Name  \n",
       "0          0.0        0.0           0.0     0.0     0.0   Nelly Carsoning  \n",
       "1          0.0        9.0           0.0  2823.0     0.0    Lerome Peckers  \n",
       "2          0.0        0.0           0.0     0.0     0.0   Sabih Unhearfus  \n",
       "3          0.0     6652.0           0.0   181.0   585.0  Meratz Caltilter  \n",
       "4         10.0        0.0         635.0     0.0     0.0   Brence Harperez  "
      ]
     },
     "execution_count": 102,
     "metadata": {},
     "output_type": "execute_result"
    }
   ],
   "source": [
    "test.head()"
   ]
  },
  {
   "cell_type": "code",
   "execution_count": 103,
   "id": "f8396b05",
   "metadata": {},
   "outputs": [],
   "source": [
    "test = sep_PID(test)\n",
    "test = sep_Cabin(test)"
   ]
  },
  {
   "cell_type": "code",
   "execution_count": 104,
   "id": "9e87848c",
   "metadata": {},
   "outputs": [],
   "source": [
    "#Filling Null Values\n",
    "cols = ['RoomService', 'FoodCourt', 'ShoppingMall', 'Spa', 'VRDeck', 'Num']\n",
    "mod_col = ['HomePlanet', 'CryoSleep', 'Destination', 'Deck', 'Side']\n",
    "med_col = ['Age']\n",
    "\n",
    "test = rep_(test, cols, 'mean')\n",
    "test = rep_(test, mod_col, 'mode')\n",
    "test = rep_(test, med_col, 'median')"
   ]
  },
  {
   "cell_type": "code",
   "execution_count": 105,
   "id": "fb5ce7b0",
   "metadata": {},
   "outputs": [],
   "source": [
    "#Encoding Columns\n",
    "enc_cols = ['HomePlanet', 'CryoSleep', 'Destination', 'Deck', 'Side']\n",
    "test = add_enc(test, enc_cols)"
   ]
  },
  {
   "cell_type": "code",
   "execution_count": 106,
   "id": "e69c98b9",
   "metadata": {},
   "outputs": [],
   "source": [
    "#Dropping unnecessary columns\n",
    "drop_col = ['PassengerId', 'HomePlanet', 'CryoSleep', 'Cabin', 'Destination', 'VIP', \n",
    "            'Name', 'Deck', 'Side']\n",
    "test.drop(drop_col, axis=1, inplace=True)"
   ]
  },
  {
   "cell_type": "code",
   "execution_count": 107,
   "id": "457287d7",
   "metadata": {},
   "outputs": [],
   "source": [
    "#Scaling columns\n",
    "scal_cols = ['Age', 'RoomService', 'FoodCourt', 'ShoppingMall', 'Spa', 'VRDeck', 'Num', 'Group']\n",
    "test = col_scal(test, MinMaxScaler(), scal_cols)"
   ]
  },
  {
   "cell_type": "code",
   "execution_count": 108,
   "id": "2406a1e0",
   "metadata": {},
   "outputs": [],
   "source": [
    "#Predicting using Random Forest\n",
    "test_predict = rf.predict(test)"
   ]
  },
  {
   "cell_type": "code",
   "execution_count": 109,
   "id": "e5bb2b33",
   "metadata": {},
   "outputs": [],
   "source": [
    "#Submission dataframe\n",
    "\n",
    "submit = pd.DataFrame(columns=['PassengerId', 'Transported'])\n",
    "submit['PassengerId'] = temp_test['PassengerId']\n",
    "submit['Transported'] = test_predict"
   ]
  },
  {
   "cell_type": "code",
   "execution_count": 110,
   "id": "6af024b9",
   "metadata": {},
   "outputs": [],
   "source": [
    "submit.to_csv('Predictions.csv', index=False)"
   ]
  },
  {
   "cell_type": "code",
   "execution_count": 111,
   "id": "83727094",
   "metadata": {},
   "outputs": [
    {
     "data": {
      "text/html": [
       "<div>\n",
       "<style scoped>\n",
       "    .dataframe tbody tr th:only-of-type {\n",
       "        vertical-align: middle;\n",
       "    }\n",
       "\n",
       "    .dataframe tbody tr th {\n",
       "        vertical-align: top;\n",
       "    }\n",
       "\n",
       "    .dataframe thead th {\n",
       "        text-align: right;\n",
       "    }\n",
       "</style>\n",
       "<table border=\"1\" class=\"dataframe\">\n",
       "  <thead>\n",
       "    <tr style=\"text-align: right;\">\n",
       "      <th></th>\n",
       "      <th>PassengerId</th>\n",
       "      <th>Transported</th>\n",
       "    </tr>\n",
       "  </thead>\n",
       "  <tbody>\n",
       "    <tr>\n",
       "      <th>0</th>\n",
       "      <td>0013_01</td>\n",
       "      <td>False</td>\n",
       "    </tr>\n",
       "    <tr>\n",
       "      <th>1</th>\n",
       "      <td>0018_01</td>\n",
       "      <td>False</td>\n",
       "    </tr>\n",
       "    <tr>\n",
       "      <th>2</th>\n",
       "      <td>0019_01</td>\n",
       "      <td>True</td>\n",
       "    </tr>\n",
       "    <tr>\n",
       "      <th>3</th>\n",
       "      <td>0021_01</td>\n",
       "      <td>True</td>\n",
       "    </tr>\n",
       "    <tr>\n",
       "      <th>4</th>\n",
       "      <td>0023_01</td>\n",
       "      <td>True</td>\n",
       "    </tr>\n",
       "    <tr>\n",
       "      <th>...</th>\n",
       "      <td>...</td>\n",
       "      <td>...</td>\n",
       "    </tr>\n",
       "    <tr>\n",
       "      <th>4272</th>\n",
       "      <td>9266_02</td>\n",
       "      <td>True</td>\n",
       "    </tr>\n",
       "    <tr>\n",
       "      <th>4273</th>\n",
       "      <td>9269_01</td>\n",
       "      <td>False</td>\n",
       "    </tr>\n",
       "    <tr>\n",
       "      <th>4274</th>\n",
       "      <td>9271_01</td>\n",
       "      <td>True</td>\n",
       "    </tr>\n",
       "    <tr>\n",
       "      <th>4275</th>\n",
       "      <td>9273_01</td>\n",
       "      <td>True</td>\n",
       "    </tr>\n",
       "    <tr>\n",
       "      <th>4276</th>\n",
       "      <td>9277_01</td>\n",
       "      <td>False</td>\n",
       "    </tr>\n",
       "  </tbody>\n",
       "</table>\n",
       "<p>4277 rows × 2 columns</p>\n",
       "</div>"
      ],
      "text/plain": [
       "     PassengerId  Transported\n",
       "0        0013_01        False\n",
       "1        0018_01        False\n",
       "2        0019_01         True\n",
       "3        0021_01         True\n",
       "4        0023_01         True\n",
       "...          ...          ...\n",
       "4272     9266_02         True\n",
       "4273     9269_01        False\n",
       "4274     9271_01         True\n",
       "4275     9273_01         True\n",
       "4276     9277_01        False\n",
       "\n",
       "[4277 rows x 2 columns]"
      ]
     },
     "execution_count": 111,
     "metadata": {},
     "output_type": "execute_result"
    }
   ],
   "source": [
    "pd.read_csv('Predictions.csv')"
   ]
  },
  {
   "cell_type": "code",
   "execution_count": null,
   "id": "d11b2243",
   "metadata": {},
   "outputs": [],
   "source": []
  }
 ],
 "metadata": {
  "kernelspec": {
   "display_name": "Python 3 (ipykernel)",
   "language": "python",
   "name": "python3"
  },
  "language_info": {
   "codemirror_mode": {
    "name": "ipython",
    "version": 3
   },
   "file_extension": ".py",
   "mimetype": "text/x-python",
   "name": "python",
   "nbconvert_exporter": "python",
   "pygments_lexer": "ipython3",
   "version": "3.8.8"
  }
 },
 "nbformat": 4,
 "nbformat_minor": 5
}
